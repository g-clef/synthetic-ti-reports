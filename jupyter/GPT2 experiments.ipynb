{
 "cells": [
  {
   "cell_type": "markdown",
   "metadata": {},
   "source": [
    "# GPT2 experiments. \n",
    "\n",
    "Having tried the LSTM, and gotten mixed success, let's see if we can get GPT2 to run on my setup. Rather than repeat the problems with the LSTM, though, I'm going to only use the source data with source code removed. If GTP2 works well with that set, we can dial the difficultly up by running against the source-code-included version, but let's not start with the hard part first. \n",
    "\n",
    "I'm going to be doing this all following the tutorial on fastai at https://docs.fast.ai/tutorial.transformers.html"
   ]
  },
  {
   "cell_type": "code",
   "execution_count": 1,
   "metadata": {},
   "outputs": [],
   "source": [
    "from transformers import GPT2LMHeadModel, GPT2TokenizerFast\n",
    "from fastai.text.all import *\n",
    "import os\n",
    "from sklearn.model_selection import train_test_split\n",
    "import re"
   ]
  },
  {
   "cell_type": "code",
   "execution_count": 2,
   "metadata": {},
   "outputs": [],
   "source": [
    "pretrained_weights = 'gpt2'\n",
    "tokenizer = GPT2TokenizerFast.from_pretrained(pretrained_weights)\n",
    "model = GPT2LMHeadModel.from_pretrained(pretrained_weights)"
   ]
  },
  {
   "cell_type": "code",
   "execution_count": 3,
   "metadata": {},
   "outputs": [],
   "source": [
    "# this is the path to the version with source code snippets removed as well as I could\n",
    "base_dir = Path(\"/home/g-clef/local_ml_data_copy/ti-reports/1655302d-a401-4d87-a223-dbb06648bb8f\")"
   ]
  },
  {
   "cell_type": "code",
   "execution_count": 4,
   "metadata": {},
   "outputs": [],
   "source": [
    "# the data is stored not in a csv, like pandas wants, but in a series of text files. have to read those in by hand to make pandas dataframe\n",
    "values = list()\n",
    "for entry in os.listdir(base_dir):\n",
    "    if entry.endswith(\".txt\"):\n",
    "        with open(os.path.join(base_dir, entry)) as infile:\n",
    "            values.append(infile.read())\n",
    "df = pd.DataFrame(data=values, columns=[\"text\"])"
   ]
  },
  {
   "cell_type": "code",
   "execution_count": 5,
   "metadata": {},
   "outputs": [],
   "source": [
    "# tutorial talks about making this tokenizer so that we can use the HuggingFace tokenizer within fastai, rather than the built-in one     \n",
    "class TransformersTokenizer(Transform):\n",
    "    def __init__(self, tokenizer): self.tokenizer = tokenizer\n",
    "    def encodes(self, x): \n",
    "        toks = self.tokenizer.tokenize(x)\n",
    "        return tensor(self.tokenizer.convert_tokens_to_ids(toks))\n",
    "    def decodes(self, x): return TitledStr(self.tokenizer.decode(x.cpu().numpy()))"
   ]
  },
  {
   "cell_type": "code",
   "execution_count": 6,
   "metadata": {},
   "outputs": [],
   "source": [
    "# we then split the set of entries into a training set and a validation set, using first 90% of data. We then concatenate them back together \n",
    "# again to use the fastai splits. This seems redundant, but what I'm concerned about is the text reader pulling a biased sample of reports\n",
    "# when it reads off disk (later ones last, particular vendors first, etc), so I want the train_test_split to randomly choose the \n",
    "# members of the train and valid sets, then I reformat that to use the `splits` feature in fastai\n",
    "train, valid = train_test_split(df, test_size=0.1, random_state=42)\n",
    "all_texts = np.concatenate([train['text'].values, valid['text'].values])\n",
    "splits = [range_of(train), list(range(len(train), len(all_texts)))]\n",
    "# tls = TfmdLists(all_texts, TransformersTokenizer(tokenizer), splits=splits, dl_type=LMDataLoader)"
   ]
  },
  {
   "cell_type": "code",
   "execution_count": 7,
   "metadata": {},
   "outputs": [],
   "source": [
    "# training with a batch size of 4, and a sequence size of 256 (gpt2 used 1024 sequence length) to get this to fit on my GPU. That will make \n",
    "# things go slower, but that's okay.\n",
    "bs,sl = 4,256\n",
    "# dls = tls.dataloaders(bs=bs, seq_len=sl)"
   ]
  },
  {
   "cell_type": "code",
   "execution_count": 8,
   "metadata": {},
   "outputs": [],
   "source": [
    "# this is a glue function to make the response of  the huggingface model fit inside the fastai library. Huggingface models return\n",
    "# a tuple for predictions of (prediction, additional_activations). Fastai jsut wants a predition, so we need to drop the activations.\n",
    "class DropOutput(Callback):\n",
    "    def after_pred(self): self.learn.pred = self.pred[0]"
   ]
  },
  {
   "cell_type": "code",
   "execution_count": 9,
   "metadata": {},
   "outputs": [
    {
     "data": {
      "text/html": [
       "\n",
       "    <div>\n",
       "        <style>\n",
       "            /* Turns off some styling */\n",
       "            progress {\n",
       "                /* gets rid of default border in Firefox and Opera. */\n",
       "                border: none;\n",
       "                /* Needs to be in here for Safari polyfill so background images work as expected. */\n",
       "                background-size: auto;\n",
       "            }\n",
       "            .progress-bar-interrupted, .progress-bar-interrupted::-webkit-progress-bar {\n",
       "                background: #F44336;\n",
       "            }\n",
       "        </style>\n",
       "      <progress value='1454' class='' max='1454' style='width:300px; height:20px; vertical-align: middle;'></progress>\n",
       "      100.00% [1454/1454 01:22<00:00]\n",
       "    </div>\n",
       "    "
      ],
      "text/plain": [
       "<IPython.core.display.HTML object>"
      ]
     },
     "metadata": {},
     "output_type": "display_data"
    },
    {
     "name": "stderr",
     "output_type": "stream",
     "text": [
      "Token indices sequence length is longer than the specified maximum sequence length for this model (16033 > 1024). Running this sequence through the model will result in indexing errors\n"
     ]
    }
   ],
   "source": [
    "def tokenize(text):\n",
    "    toks = tokenizer.tokenize(text)\n",
    "    return tensor(tokenizer.convert_tokens_to_ids(toks))\n",
    "\n",
    "tokenized = [tokenize(t) for t in progress_bar(all_texts)]"
   ]
  },
  {
   "cell_type": "code",
   "execution_count": 10,
   "metadata": {},
   "outputs": [],
   "source": [
    "class TransformersTokenizer(Transform):\n",
    "    def __init__(self, tokenizer): self.tokenizer = tokenizer\n",
    "    def encodes(self, x): \n",
    "        return x if isinstance(x, Tensor) else tokenize(x)\n",
    "        \n",
    "    def decodes(self, x): return TitledStr(self.tokenizer.decode(x.cpu().numpy()))"
   ]
  },
  {
   "cell_type": "code",
   "execution_count": 11,
   "metadata": {},
   "outputs": [],
   "source": [
    "tls = TfmdLists(tokenized, TransformersTokenizer(tokenizer), splits=splits, dl_type=LMDataLoader)\n",
    "dls = tls.dataloaders(bs=bs, seq_len=sl)"
   ]
  },
  {
   "cell_type": "code",
   "execution_count": 12,
   "metadata": {},
   "outputs": [],
   "source": [
    "learn = Learner(dls, model, loss_func=CrossEntropyLossFlat(), cbs=[DropOutput], metrics=Perplexity()).to_fp16()"
   ]
  },
  {
   "cell_type": "code",
   "execution_count": 15,
   "metadata": {},
   "outputs": [
    {
     "data": {
      "text/html": [],
      "text/plain": [
       "<IPython.core.display.HTML object>"
      ]
     },
     "metadata": {},
     "output_type": "display_data"
    },
    {
     "data": {
      "text/plain": [
       "(#2) [2.701354503631592,14.899900436401367]"
      ]
     },
     "execution_count": 15,
     "metadata": {},
     "output_type": "execute_result"
    }
   ],
   "source": [
    "learn.validate()"
   ]
  },
  {
   "cell_type": "code",
   "execution_count": 16,
   "metadata": {},
   "outputs": [
    {
     "data": {
      "text/html": [],
      "text/plain": [
       "<IPython.core.display.HTML object>"
      ]
     },
     "metadata": {},
     "output_type": "display_data"
    },
    {
     "data": {
      "text/plain": [
       "SuggestedLRs(valley=9.120108734350652e-05)"
      ]
     },
     "execution_count": 16,
     "metadata": {},
     "output_type": "execute_result"
    },
    {
     "data": {
      "image/png": "[encoded data removed]",
      "text/plain": [
       "<Figure size 432x288 with 1 Axes>"
      ]
     },
     "metadata": {
      "needs_background": "light"
     },
     "output_type": "display_data"
    }
   ],
   "source": [
    "learn.lr_find()"
   ]
  },
  {
   "cell_type": "markdown",
   "metadata": {},
   "source": [
    "This worked, and looks good from a perplexity point of view (the second number in `learn.validate`, but it's worth noting that the original way was *slow*. (the `validate` method took over an hour to run). The GPU was barely used, but one core of hte CPU was maxed out. I think what's happening is the TransformerTokenizer above is doing a lot of work, and that's all happening on the CPU, so the GPU is waiting for the CPU to repeatedly re-tokenize batches before running them. \n",
    "\n",
    "The tutorial mentioned another way to tokenize the text, which is to do it all at once, and only use the tranform to decode the output tensors (the results from a huggingface model) back to readable texts. That's what the `tokenize` and lower `transformersTokenizer` method are about."
   ]
  },
  {
   "cell_type": "code",
   "execution_count": 13,
   "metadata": {},
   "outputs": [
    {
     "data": {
      "text/html": [
       "<table border=\"1\" class=\"dataframe\">\n",
       "  <thead>\n",
       "    <tr style=\"text-align: left;\">\n",
       "      <th>epoch</th>\n",
       "      <th>train_loss</th>\n",
       "      <th>valid_loss</th>\n",
       "      <th>perplexity</th>\n",
       "      <th>time</th>\n",
       "    </tr>\n",
       "  </thead>\n",
       "  <tbody>\n",
       "    <tr>\n",
       "      <td>0</td>\n",
       "      <td>2.022082</td>\n",
       "      <td>1.879266</td>\n",
       "      <td>6.548698</td>\n",
       "      <td>1:09:16</td>\n",
       "    </tr>\n",
       "  </tbody>\n",
       "</table>"
      ],
      "text/plain": [
       "<IPython.core.display.HTML object>"
      ]
     },
     "metadata": {},
     "output_type": "display_data"
    }
   ],
   "source": [
    "learn.fit_one_cycle(1, 1e-4)"
   ]
  },
  {
   "cell_type": "code",
   "execution_count": 14,
   "metadata": {},
   "outputs": [
    {
     "data": {
      "text/plain": [
       "Path('models/fine-tuned.pth')"
      ]
     },
     "execution_count": 14,
     "metadata": {},
     "output_type": "execute_result"
    }
   ],
   "source": [
    "learn.save(\"fine-tuned\")"
   ]
  },
  {
   "cell_type": "markdown",
   "metadata": {},
   "source": [
    "Note: at this point I ran into a lot of problems if I left the notebook running and proceeding from here. So, I ended up saving & shutting down the notebook, then re-starting and re-loading to start here. (errors like CUDA assertion errors, unusual errors about tensor sizes not matching.  "
   ]
  },
  {
   "cell_type": "code",
   "execution_count": 16,
   "metadata": {},
   "outputs": [],
   "source": [
    "learn = learn.load(\"fine-tuned\")\n",
    "learn.model = learn.to(\"cuda\")"
   ]
  },
  {
   "cell_type": "code",
   "execution_count": 33,
   "metadata": {},
   "outputs": [
    {
     "data": {
      "text/plain": [
       "torch.Size([1, 5])"
      ]
     },
     "execution_count": 33,
     "metadata": {},
     "output_type": "execute_result"
    }
   ],
   "source": [
    "prompt = \"\\n checkerboard spider\"\n",
    "prompt_ids = tokenizer.encode(prompt)\n",
    "inp = tensor(prompt_ids)[None].cuda()\n",
    "inp.shape"
   ]
  },
  {
   "cell_type": "code",
   "execution_count": 34,
   "metadata": {},
   "outputs": [
    {
     "name": "stderr",
     "output_type": "stream",
     "text": [
      "Setting `pad_token_id` to `eos_token_id`:50256 for open-end generation.\n"
     ]
    }
   ],
   "source": [
    "preds = learn.model.generate(inp, max_length=100, num_beams=5, temperature=1.5)"
   ]
  },
  {
   "cell_type": "code",
   "execution_count": 35,
   "metadata": {},
   "outputs": [
    {
     "data": {
      "text/plain": [
       "'\\n checkerboard spider\\n                                                                                              '"
      ]
     },
     "execution_count": 35,
     "metadata": {},
     "output_type": "execute_result"
    }
   ],
   "source": [
    "tokenizer.decode(preds[0].cpu().numpy())"
   ]
  },
  {
   "cell_type": "markdown",
   "metadata": {},
   "source": [
    "Well, that's weird. It looks like there's nothing there. I wonder if the training data got somehow blanked out in the transformations."
   ]
  },
  {
   "cell_type": "code",
   "execution_count": 12,
   "metadata": {},
   "outputs": [
    {
     "data": {
      "text/plain": [
       "tensor([ 198,  220,  220,  ...,   14, 2091,  198])"
      ]
     },
     "execution_count": 12,
     "metadata": {},
     "output_type": "execute_result"
    }
   ],
   "source": [
    "tokenized[0]"
   ]
  },
  {
   "cell_type": "code",
   "execution_count": 13,
   "metadata": {},
   "outputs": [
    {
     "data": {
      "text/plain": [
       "tensor([ 198,  220,  220,  ...,   14, 1065,  198])"
      ]
     },
     "execution_count": 13,
     "metadata": {},
     "output_type": "execute_result"
    }
   ],
   "source": [
    "tokenized[1]"
   ]
  },
  {
   "cell_type": "code",
   "execution_count": 14,
   "metadata": {},
   "outputs": [
    {
     "data": {
      "text/plain": [
       "16033"
      ]
     },
     "execution_count": 14,
     "metadata": {},
     "output_type": "execute_result"
    }
   ],
   "source": [
    "len(tokenized[0])"
   ]
  },
  {
   "cell_type": "code",
   "execution_count": 15,
   "metadata": {},
   "outputs": [
    {
     "data": {
      "text/plain": [
       "7656"
      ]
     },
     "execution_count": 15,
     "metadata": {},
     "output_type": "execute_result"
    }
   ],
   "source": [
    "len(tokenized[1])"
   ]
  },
  {
   "cell_type": "markdown",
   "metadata": {},
   "source": [
    "No, it looks like the tokenized values are all still there. "
   ]
  },
  {
   "cell_type": "code",
   "execution_count": 21,
   "metadata": {
    "collapsed": true,
    "jupyter": {
     "outputs_hidden": true
    },
    "tags": []
   },
   "outputs": [
    {
     "data": {
      "text/plain": [
       "tensor([50256,   220,   220,   220,   220,   220,   220,   220,   220,   220,\n",
       "          220,   220,   220,   220,   220,   220,   220,   220,   220,   220,\n",
       "          220,   220,   220,   220,   220,   220,   220,   220,   220,   220,\n",
       "          220,   220,   220,   220,   220,   220,   220,   220,   220,   220,\n",
       "          220,   220,   220,   220,   220,   220,   220,   220,   220,   220,\n",
       "          220,   220,   220,   220,   220,   220,   220,   220,   220,   220,\n",
       "          220,   220,   220,   220,   220,   220,   220,   220,   220,   220,\n",
       "          220,   220,   220,   220,   220,   220,   220,   220,   220,   220,\n",
       "          220,   220,   220,   220,   220,   220,   220,   220,   220,   220,\n",
       "          220,   220,   220,   220,   220,   220,   220,   220,   220,   220,\n",
       "          220,   220,   220,   220,   220,   220,   220,   220,   220,   220,\n",
       "          220,   220,   220,   220,   220,   220,   220,   220,   220,   220,\n",
       "          220,   220,   220,   220,   220,   220,   220,   220,   220,   220,\n",
       "          220,   220,   220,   220,   220,   220,   220,   220,   220,   220,\n",
       "          220,   220,   220,   220,   220,   220,   220,   220,   220,   220,\n",
       "          220,   220,   220,   220,   220,   220,   220,   220,   220,   220,\n",
       "          220,   220,   220,   220,   220,   220,   220,   220,   220,   220,\n",
       "          220,   220,   220,   220,   220,   220,   220,   220,   220,   220,\n",
       "          220,   220,   220,   220,   220,   220,   220,   220,   220,   220,\n",
       "          220,   220,   220,   220,   220,   220,   220,   220,   220,   220,\n",
       "          220,   220,   220,   220,   220,   220,   220,   220,   220,   220,\n",
       "          220,   220,   220,   220,   220,   220,   220,   220,   220,   220,\n",
       "          220,   220,   220,   220,   220,   220,   220,   220,   220,   220,\n",
       "          220,   220,   220,   220,   220,   220,   220,   220,   220,   220,\n",
       "          220,   220,   220,   220,   220,   220,   220,   220,   220,   220,\n",
       "          220,   220,   220,   220,   220,   220,   220,   220,   220,   220,\n",
       "          220,   220,   220,   220,   220,   220,   220,   220,   220,   220,\n",
       "          220,   220,   220,   220,   220,   220,   220,   220,   220,   220,\n",
       "          220,   220,   220,   220,   220,   220,   220,   220,   220,   220,\n",
       "          220,   220,   220,   220,   220,   220,   220,   220,   220,   220,\n",
       "          220,   220,   220,   220,   220,   220,   220,   220,   220,   220,\n",
       "          220,   220,   220,   220,   220,   220,   220,   220,   220,   220,\n",
       "          220,   220,   220,   220,   220,   220,   220,   220,   220,   220,\n",
       "          220,   220,   220,   220,   220,   220,   220,   220,   220,   220,\n",
       "          220,   220,   220,   220,   220,   220,   220,   220,   220,   220,\n",
       "          220,   220,   220,   220,   220,   220,   220,   220,   220,   220,\n",
       "          220,   220,   220,   220,   220,   220,   220,   220,   220,   220,\n",
       "          220,   220,   220,   220,   220,   220,   220,   220,   220,   220,\n",
       "          220,   220,   220,   220,   220,   220,   220,   220,   220,   220,\n",
       "          220,   220,   220,   220,   220,   220,   220,   220,   220,   220,\n",
       "          220,   220,   220,   220,   220,   220,   220,   220,   220,   220,\n",
       "          220,   220,   220,   220,   220,   220,   220,   220,   220,   220,\n",
       "          220,   220,   220,   220,   220,   220,   220,   220,   220,   220,\n",
       "          220,   220,   220,   220,   220,   220,   220,   220,   220,   220,\n",
       "          220,   220,   220,   220,   220,   220,   220,   220,   220,   220,\n",
       "          220,   220,   220,   220,   220,   220,   220,   220,   220,   220,\n",
       "          220,   220,   220,   220,   220,   220,   220,   220,   220,   220,\n",
       "          220,   220,   220,   220,   220,   220,   220,   220,   220,   220,\n",
       "          220,   220,   220,   220,   220,   220,   220,   220,   220,   220,\n",
       "          220,   220,   220,   220,   220,   220,   220,   220,   220,   220,\n",
       "          220,   220,   220,   220,   220,   220,   220,   220,   220,   220,\n",
       "          220,   220,   220,   220,   220,   220,   220,   220,   220,   220,\n",
       "          220,   220,   220,   220,   220,   220,   220,   220,   220,   220,\n",
       "          220,   220,   220,   220,   220,   220,   220,   220,   220,   220,\n",
       "          220,   220,   220,   220,   220,   220,   220,   220,   220,   220,\n",
       "          220,   220,   220,   220,   220,   220,   220,   220,   220,   220,\n",
       "          220,   220,   220,   220,   220,   220,   220,   220,   220,   220,\n",
       "          220,   220,   220,   220,   220,   220,   220,   220,   220,   220,\n",
       "          220,   220,   220,   220,   220,   220,   220,   220,   220,   220,\n",
       "          220,   220,   220,   220,   220,   220,   220,   220,   220,   220,\n",
       "          220,   220,   220,   220,   220,   220,   220,   220,   220,   220,\n",
       "          220,   220,   220,   220,   220,   220,   220,   220,   220,   220,\n",
       "          220,   220,   220,   220,   220,   220,   220,   220,   220,   220,\n",
       "          220,   220,   220,   220,   220,   220,   220,   220,   220,   220,\n",
       "          220,   220,   220,   220,   220,   220,   220,   220,   220,   220,\n",
       "          220,   220,   220,   220,   220,   220,   220,   220,   220,   220,\n",
       "          220,   220,   220,   220,   220,   220,   220,   220,   220,   220,\n",
       "          220,   220,   220,   220,   220,   220,   220,   220,   220,   220,\n",
       "          220,   220,   220,   220,   220,   220,   220,   220,   220,   220,\n",
       "          220,   220,   220,   220,   220,   220,   220,   220,   220,   220,\n",
       "          220,   220,   220,   220,   220,   220,   220,   220,   220,   220,\n",
       "          220,   220,   220,   220,   220,   220,   220,   220,   220,   220,\n",
       "          220,   220,   220,   220,   220,   220,   220,   220,   220,   220,\n",
       "          220,   220,   220,   220,   220,   220,   220,   220,   220,   220,\n",
       "          220,   220,   220,   220,   220,   220,   220,   220,   220,   220,\n",
       "          220,   220,   220,   220,   220,   220,   220,   220,   220,   220,\n",
       "          220,   220,   220,   220,   220,   220,   220,   220,   220,   220,\n",
       "          220,   220,   220,   220,   220,   220,   220,   220,   220,   220,\n",
       "          220,   220,   220,   220,   220,   220,   220,   220,   220,   220,\n",
       "          220,   220,   220,   220,   220,   220,   220,   220,   220,   220,\n",
       "          220,   220,   220,   220,   220,   220,   220,   220,   220,   220,\n",
       "          220,   220,   220,   220,   220,   220,   220,   220,   220,   220,\n",
       "          220,   220,   220,   220,   220,   220,   220,   220,   220,   220,\n",
       "          220,   220,   220,   220,   220,   220,   220,   220,   220,   220,\n",
       "          220,   220,   220,   220,   220,   220,   220,   220,   220,   220,\n",
       "          220,   220,   220,   220,   220,   220,   220,   220,   220,   220,\n",
       "          220,   220,   220,   220,   220,   220,   220,   220,   220,   220,\n",
       "          220,   220,   220,   220,   220,   220,   220,   220,   220,   220,\n",
       "          220,   220,   220,   220,   220,   220,   220,   220,   220,   220,\n",
       "          220,   220,   220,   220,   220,   220,   220,   220,   220,   220,\n",
       "          220,   220,   220,   220,   220,   220,   220,   220,   220,   220,\n",
       "          220,   220,   220,   220,   220,   220,   220,   220,   220,   220,\n",
       "          220,   220,   220,   220,   220,   220,   220,   220,   220,   220,\n",
       "          220,   220,   220,   220,   220,   220,   220,   220,   220,   220,\n",
       "          220,   220,   220,   220,   220,   220,   220,   220,   220,   220,\n",
       "          220,   220,   220,   220,   220,   220,   220,   220,   220,   220,\n",
       "          220,   220,   220,   220,   220,   220,   220,   220,   220,   220,\n",
       "          220,   220,   220,   220,   220,   220,   220,   220,   220,   220,\n",
       "          220,   220,   220,   220,   220,   220,   220,   220,   220,   220,\n",
       "          220,   220,   220,   220,   220,   220,   220,   220,   220,   220],\n",
       "       device='cuda:0')"
      ]
     },
     "execution_count": 21,
     "metadata": {},
     "output_type": "execute_result"
    }
   ],
   "source": [
    "preds[0]"
   ]
  },
  {
   "cell_type": "code",
   "execution_count": 24,
   "metadata": {},
   "outputs": [
    {
     "data": {
      "text/plain": [
       "' '"
      ]
     },
     "execution_count": 24,
     "metadata": {},
     "output_type": "execute_result"
    }
   ],
   "source": [
    "tokenizer.decode([220])"
   ]
  },
  {
   "cell_type": "markdown",
   "metadata": {},
   "source": [
    "Oh, weird. It's learned nothing but spaces. I wonder why?"
   ]
  },
  {
   "cell_type": "code",
   "execution_count": 25,
   "metadata": {
    "collapsed": true,
    "jupyter": {
     "outputs_hidden": true
    },
    "tags": []
   },
   "outputs": [
    {
     "data": {
      "text/plain": [
       "'\\n    5/7/2021                                          Operation TunnelSnake | Securelist\\n\\n\\n        Operation    TunnelSnake\\n\\n\\n          securelist.com/operation-tunnelsnake-and-moriya-rootkit/101831\\n\\n\\n\\n\\n\\n\\n\\n\\n\\n\\n\\n\\n\\n\\n\\n\\n\\n\\n\\n\\n\\n\\n\\n\\n\\n\\n\\n\\n\\n\\n        Formerly  unknown  rootkit used to secretly control networks of regional organizations\\n\\n\\n\\n\\n\\n    https://securelist.com/operation-tunnelsnake-and-moriya-rootkit/101831/                                   1/33\\n    5/7/2021                                          Operation TunnelSnake | Securelist\\n\\n\\n\\n        Windows rootkits, especially those operating in kernel space, are pieces of malware infamous for their near absolute power in the\\n        operating system. Usually deployed as drivers, such implants have high privileges in the system, allowing them to intercept and\\n        potentially tamper with core I/O operations conducted by the underlying OS, like reading or writing to files or processing incoming and\\n        outgoing network packets. The capability to blend into the fabric of the operating system itself, much like security products do, is the\\n\\n        quality that earns rootkits their notoriety for stealth and evasion.\\n\\n        Having said that, the successful deployment and execution of a rootkit component in Windows has become a difficult task over the\\n        years. With Microsoft’s introduction of Driver Signature Enforcement, it has become harder (though not impossible) to load and run\\n        new code in kernel space. Even then, other mechanisms such as Kernel Patch Protection (also known as PatchGuard) make it hard to\\n\\n        tamper with the system, with every change in a core system structure potentially invoking the infamous Blue Screen of Death.\\n\\n        Consequently, the number of Windows rootkits in the wild has decreased dramatically, with the bulk of those still active often being\\n        leveraged in high profile APT attacks. One such example came to our attention during an investigation last year, in which we uncovered\\n        a formerly unknown Windows rootkit and its underlying cluster of activity. We observed this rootkit and other tools by the threat actor\\n\\n        behind it being used as part of a campaign we dubbed ‘TunnelSnake’, conducted against several prominent organizations in Asia and\\n        Africa.\\n\\n        In this blog post we will focus on the following key findings that came up in our investigation:\\n\\n            A newly discovered rootkit that we dub ‘Moriya’ is used by an unknown actor to deploy passive backdoors on public facing servers,\\n\\n            facilitating the creation of a covert C&C communication channel through which they can be silently controlled;\\n            The rootkit was found on networks of regional diplomatic organizations in Asia and Africa, detected on several instances dating\\n            back to October 2019 and May 2020, where the infection persisted in the targeted networks for several months after each\\n            deployment of the malware;\\n\\n            We observed an additional victim in South Asia, where the threat actor deployed a broad toolset for lateral movement along with\\n            the rootkit, including a tool that was formerly used by APT1. Based on the detection timestamps of that toolset, we assess that the\\n            attacker had a foothold in the network from as early as 2018;\\n            A couple of other tools that have significant code overlaps with Moriya were found as well. These contain a user mode version of\\n\\n            the malware and another driver-based utility used to defeat AV software.\\n\\n\\n\\n\\n    https://securelist.com/operation-tunnelsnake-and-moriya-rootkit/101831/                                   2/33\\n    5/7/2021                                          Operation TunnelSnake | Securelist\\n\\n\\n\\n        We provided information about this operation in our threat intelligence portal in August 2020. More details and analysis are available to\\n        customers of our private APT reporting service. For more details contact: intelreports@kaspersky.com.\\n\\n        What  is the Moriya rootkit and how does it work?\\n\\n\\n        Our investigation into the TunnelSnake campaign started from a set of alerts from our product on a detection of a unique rootkit within\\n        the targeted networks. Based on string artefacts within the malware’s binaries, we named this rootkit Moriya. This tool is a passive\\n        backdoor which allows attackers to inspect all incoming traffic to the infected machine, filter out packets that are marked as designated\\n        for the malware and respond to them. This forms a covert channel over which attackers are able to issue shell commands and receive\\n\\n        back their outputs.\\n\\n        The rootkit has two traits that make it particularly evasive. The packet inspection happens in kernel mode with the use of a Windows\\n        driver, allowing attackers to drop the packets of interest before they are processed by the network stack, thus ensuring they are not\\n        detected by security solutions. Secondly, the fact that the rootkit waits for incoming traffic rather than initiating a connection to a server\\n\\n        itself, avoids the need to incorporate a C&C address in the malware’s binary or to maintain a steady C&C infrastructure. This hinders\\n        analysis and makes it difficult to trace the attacker’s footprints.\\n\\n        The figure below illustrates the structure of the rootkit’s components. They consist of a kernel mode driver and a user mode agent that\\n        deploys and controls it. In the following sections we will break down each of these components and describe how they operate to achieve\\n\\n        the goal of tapping into the target’s network communication and blending in its traffic.\\n\\n\\n\\n\\n\\n\\n\\n\\n\\n\\n\\n\\n\\n\\n\\n    https://securelist.com/operation-tunnelsnake-and-moriya-rootkit/101831/                                   3/33\\n    5/7/2021                                          Operation TunnelSnake | Securelist\\n\\n\\n\\n\\n\\n\\n\\n\\n\\n\\n\\n\\n\\n\\n\\n\\n\\n\\n\\n\\n\\n\\n\\n\\n\\n        Fig. 1. The architecture of the Moriya rootkit\\n\\n\\n        User mode agent analysis\\n\\n        The user mode component of the Moriya rootkit has two purposes. One is to deploy the kernel mode component of the malware on the\\n        machine and the other is to leverage the covert communication channel created by it to read shell commands sent from the C&C server\\n        to the compromised machine and to respond to them. Since Moriya is a passive backdoor intended to be deployed on a server accessible\\n\\n        from the internet, it contains no hardcoded C&C address and relies solely on the driver to provide it with packets filtered from the\\n        machine’s overall incoming traffic.\\n\\n\\n\\n\\n\\n\\n    https://securelist.com/operation-tunnelsnake-and-moriya-rootkit/101831/                                   4/33\\n    5/7/2021                                          Operation TunnelSnake | Securelist\\n\\n\\n\\n        The first order of business for the attacker when using Moriya is to gain persistence on the targeted computer. For this purpose, the user\\n        mode agent’s DLL contains an export function named Install, which is intended to create a service named ZzNetSvc with the description\\n        ‘Network Services Manager’ and start it. In turn, the path to the user mode agent’s image is set to the registry key\\n        HKLM\\\\System\\\\CurrentControlSet\\\\Services\\\\ZzNetSvc\\\\Parameters\\\\ServiceDll so that it will be invoked from its ServiceMain export\\n\\n        each time the service is initiated.\\n\\n        Next, after the service is started, the agent will attempt to load the rootkit’s driver into the system. Its binary is bundled as two driver\\n        images within the DLL’s resource section, corresponding to 32- and 64-bit architectures, while in reality only one of them is written to\\n        disk. In the cases we analyzed, the agent DLLs were compiled for 64-bit systems, dropping a 64-bit driver to the drivers directory in the\\n\\n        system path, under the name MoriyaStreamWatchmen.sys, hence the rootkit’s name.\\n\\n\\n\\n\\n\\n\\n\\n\\n\\n        Fig. 2. Code that writes the Moriya driver to disk\\n\\n        The agent uses a known technique whereby the VirtualBox driver (VBoxDrv.sys) is leveraged to bypass the Driver Signature\\n        Enforcement mechanism in Windows and load Moriya’s unsigned driver. DSE is an integrity mechanism mandating that drivers are\\n\\n        properly signed with digital signatures in order for them to be loaded, which was introduced for all versions of Windows starting from\\n        Vista 64-bit. The technique used to bypass it was seen in use by other threat actors like Turla, Lamberts and Equation.\\n\\n        Moriya’s user mode agent bypasses this protection with the use of an open-source code[1] named DSEFIX v1.0. The user agent dumps an\\n        embedded VBoxDrv.sys image of version 1.6.2 to disk and loads it, which is then used by the aforementioned code to map Moriya’s\\n\\n        unsigned driver to kernel memory space and execute it from its entry point. These actions are made possible through IOCTLs\\n        implemented in VBoxDrv.sys that allow writing to kernel address space and executing code from it. Throughout this process, the bypass\\n        code is used to locate and modify a flag in kernel space named g_CiOptions, which controls the mode of enforcement.\\n\\n\\n\\n\\n    https://securelist.com/operation-tunnelsnake-and-moriya-rootkit/101831/                                   5/33\\n    5/7/2021                                          Operation TunnelSnake | Securelist\\n\\n\\n\\n        After the unsigned driver is loaded, the agent registers a special keyword that is used as a magic value, which will be sought in the first\\n        bytes of every incoming packet passed on the covert channel. This allows the rootkit to filter marked packets and block them for any\\n        application on the system other than the user mode agent. The registration of the value is done through a special IOCTL with the code\\n        0x222004 sent to the driver, where a typical magic string is pass12.\\n\\n\\n\\n\\n\\n\\n\\n\\n\\n\\n\\n\\n\\n\\n        Fig. 3. Registration of the packet magic value using a designated IOCTL\\n\\n        Except for its covert channel communication feature, Moriya is capable of establishing a reverse shell session using an overt channel.\\n        For this purpose, it waits for a special packet that consists of a message with the structure connect <c2_address> <c2_port>. The\\n        address and port are parsed and used by the agent to start a new connection to the given server, while creating a new cmd.exe process\\n\\n        and redirecting its I/O to the connection’s socket. The handles for the newly created process and its main thread are destroyed to avoid\\n        detection.\\n\\n        In any other case, the agent attempts to read the incoming TCP payload from the driver, which will be retrieved as soon as a designated\\n        packet with a magic number and shell command is received. An attempt is made to read the data with a plain ReadFile API function as a\\n\\n        blocking operation, i.e., reading is accomplished only once the buffer in kernel mode is populated with data from a Moriya-related\\n        packet.\\n\\n        Upon an incoming packet event, the agent creates a new cmd.exe process and redirects its I/O using named pipes. One pipe is used to\\n        read the retrieved shell command from the covert channel and the other is used to write the shell’s output (obtained from the stdout and\\n\\n        stderr streams) back to it after execution. To write any data back, the agent uses the WriteFile API function with the driver’s handle.\\n\\n\\n    https://securelist.com/operation-tunnelsnake-and-moriya-rootkit/101831/                                   6/33\\n    5/7/2021                                          Operation TunnelSnake | Securelist\\n\\n\\n\\n        All traffic passed on the channel is encoded with a simple encryption scheme. Every sent byte has its payload, following the magic string,\\n        XORed with the value 0x05 and then negated. Following the same logic, to decode the incoming traffic’s payload, every byte of it should\\n        be first negated and then XORed with 0x05.\\n\\n\\n\\n\\n\\n\\n\\n\\n\\n\\n\\n\\n\\n\\n\\n\\n\\n\\n\\n\\n\\n\\n\\n\\n        Fig. 4. Code used for packet encoding\\n\\n\\n        Kernel mode driver analysis\\n\\n        The Moriya rootkit’s driver component makes use of the Windows Filtering Platform (WFP) to facilitate the covert channel between the\\n        compromised host and the C&C server. WFP provides a kernel space API that allows driver code to intercept packets in transit and\\n        intervene in their processing by the Windows TCP/IP network stack. This makes it possible to write a driver that can filter out distinct\\n\\n\\n\\n\\n    https://securelist.com/operation-tunnelsnake-and-moriya-rootkit/101831/                                   7/33\\n    5/7/2021                                          Operation TunnelSnake | Securelist\\n\\n\\n\\n        packet streams, based on developer-chosen criteria, and designate them for consumption by a specific user mode application, as is the\\n        case in Moriya.\\n\\n        The driver fetches the distinct Moriya-related traffic using a filtering engine. This is the kernel mode mechanism used to inspect traffic\\n        according to rules that can be applied on various fields across several layers of a packet (namely data link, IP and transport), making it\\n\\n        possible to handle matching packets with unique handlers. Such handlers are referred to as callout functions.\\n\\n        In the case of Moriya, the filtering engine is configured to intercept TCP packets, sent over IPv4 from a remote address. Each packet\\n        with these criteria will be inspected by a callout function that checks if its first six bytes correspond to the previously registered magic\\n        value, and if so, copies the packet contents into a special buffer that can be later read by the user mode agent. The matching packet will\\n\\n        then be blocked in order to hide its presence from the system, while any other packet is permitted to be processed as intended by the\\n        network stack.\\n\\n        To allow the crafting of a response back to the server, the callout function saves a special value in a global variable that identifies the\\n        received TCP stream. This value is called a flowHandle, and is taken from the packet’s corresponding\\n\\n        FWPS_INCOMING_METADATA_VALUES0    struct. When the user issues a response to the server via the driver, the latter would craft a\\n        new packet using the FwpsAllocateNetBufferAndNetBufferList0 function and insert the response data and target server based on the\\n        saved flowHandle to it, using the function FwpsStreamInjectAsync0.\\n\\n\\n\\n\\n\\n\\n\\n\\n\\n\\n\\n\\n\\n\\n\\n\\n\\n\\n    https://securelist.com/operation-tunnelsnake-and-moriya-rootkit/101831/                                   8/33\\n    5/7/2021                                          Operation TunnelSnake | Securelist\\n\\n\\n\\n\\n\\n\\n\\n\\n\\n\\n\\n\\n\\n\\n\\n\\n\\n\\n\\n\\n\\n\\n\\n\\n\\n\\n\\n        Fig. 5. Code that creates a new packet, designates it for the flow of the corresponding incoming TCP packet and\\n        injects data written from user space into it\\n\\n\\n        As formerly mentioned, the driver registers several functions that are exposed to the user mode agent in order to interact with it:\\n\\n            IRP_MJ_READ:   used to allow the user mode agent to read the body of a Moriya TCP packet from a special buffer to which it is\\n            copied upon receipt. The function itself waits on an event that gets signaled once such a packet is obtained, thus turning the\\n            ReadFile function called by the user mode agent into a blocking operation that will wait until the packet is picked up by the driver.\\n\\n            IRP_MJ_WRITE:   injects user-crafted data into a newly created TCP packet that is sent as a response to an incoming Moriya\\n            packet from the server.\\n\\n\\n\\n    https://securelist.com/operation-tunnelsnake-and-moriya-rootkit/101831/                                   9/33\\n    5/7/2021                                          Operation TunnelSnake | Securelist\\n\\n\\n\\n            IRP_MJ_DEVICE_CONTROL:    used to register the keyword to check the beginning of every incoming TCP packet in order to\\n            identify Moriya-related traffic. The passed magic is anticipated to be six characters long.\\n\\n\\n\\n\\n\\n\\n\\n\\n\\n\\n\\n\\n        Fig. 6. Code used for registering the packet magic value from the driver side\\n\\n        How  were targeted servers initially infected?\\n\\n\\n        Inspecting the systems targeted by the rootkit, we tried to understand how they got infected in the first place. As previously mentioned,\\n        Moriya was seen deployed mostly on public-facing servers within the victim organizations. In one case, we saw the attacker infect an\\n        organizational mail server with the China Chopper webshell, using it to map the victim’s\\n\\n        network and then deploy other tools in it. Moriya’s user mode agent was explicitly installed using a command line executed on the\\n\\n        targeted server this way. This command and examples of others run on the victim machine via the webshell can be seen below.\\n\\n\\n\\n\\n\\n\\n\\n\\n\\n\\n\\n\\n\\n    https://securelist.com/operation-tunnelsnake-and-moriya-rootkit/101831/                                   10/33\\n    5/7/2021                                          Operation TunnelSnake | Securelist\\n\\n\\n\\n         1   \"cmd\" /c cd /d C:\\\\inetpub\\\\wwwroot\\\\&ipconfig -all\\n\\n         2   \"cmd\" /c cd /d C:\\\\inetpub\\\\wwwroot\\\\&reg query\\n\\n         3   HKLM\\\\SYSTEM\\\\CurrentControlSet\\\\Control\\\\SecurityProviders\\\\WDigest\\n\\n         4   \"cmd\" /c cd /d C:\\\\inetpub\\\\wwwroot\\\\&$public\\\\acmsetup.exe\\n\\n         5   \"cmd\" /c cd /d C:\\\\inetpub\\\\wwwroot\\\\&query user\\n\\n         6   \"cmd\" /c cd /d C:\\\\inetpub\\\\wwwroot\\\\&ipconfig/all\\n\\n         7   \"cmd\" /c cd /d C:\\\\inetpub\\\\wwwroot\\\\&ping google.com\\n\\n         8   \"cmd\" /c cd /d C:\\\\inetpub\\\\wwwroot\\\\&netstat -anp tcp\\n\\n         9   \"cmd\" /c cd /d C:\\\\inetpub\\\\wwwroot\\\\&tasklist /v\\n\\n         10  \"cmd\" /c cd /d C:\\\\inetpub\\\\wwwroot\\\\&whoami\\n\\n         11  \"cmd\" /c cd /d C:\\\\inetpub\\\\wwwroot\\\\&cd $windir\\\\web\\\\\\n         12  \"cmd\" /c cd /d $windir\\\\Web\\\\&rundll32 MoriyaServiceX64.dll, Install\\n\\n         13  \"cmd\" /c cd /d C:\\\\inetpub\\\\wwwroot\\\\&ipconfig/all\\n\\n         14  \"cmd\" /c cd /d C:\\\\inetpub\\\\wwwroot\\\\&time /t\\n\\n         15 ...\\n\\n\\n\\n        In general, we assess that the group’s modus-operandi involves infiltrating organizations\\n\\n        through vulnerable web servers in their networks. For example, an older variant of Moriya named IISSpy (described below) targets IIS\\n        web servers. Our telemetry shows that it was likely deployed by exploiting CVE-2017-7269 to let the attackers gain an initial foothold on\\n\\n        a server prior to running the malware.\\n\\n\\n    https://securelist.com/operation-tunnelsnake-and-moriya-rootkit/101831/                                   11/33\\n    5/7/2021                                          Operation TunnelSnake | Securelist\\n\\n\\n        Post exploitation toolset\\n\\n\\n        During our investigation we found a target in South Asia that enabled us to get a glimpse into some of the other tools that we assess were\\n        in use by the same attacker. The toolset includes programs used to scan hosts in the local network, find new targets, perform lateral\\n        movement to spread to them and exfiltrate files. While most of the tools seem custom made and tailored for the attackers’ activities, we\\n\\n        could also observe some open-source malware frequently leveraged by Chinese-speaking actors. Following is an outline of these tools\\n        based on their purpose in the infection chain.\\n\\n\\n\\n\\n\\n\\n\\n\\n\\n\\n\\n\\n\\n\\n\\n\\n\\n\\n\\n\\n\\n\\n\\n\\n\\n\\n\\n\\n\\n\\n\\n    https://securelist.com/operation-tunnelsnake-and-moriya-rootkit/101831/                                   12/33\\n    5/7/2021                                          Operation TunnelSnake | Securelist\\n\\n\\n\\n            Network Discovery: custom built programs used to scan the internal network and detect vulnerable services.\\n\\n\\n\\n\\n\\n\\n\\n\\n\\n\\n\\n\\n\\n\\n\\n\\n\\n\\n\\n\\n\\n\\n\\n\\n\\n\\n\\n\\n\\n\\n\\n\\n\\n\\n\\n\\n\\n\\n    https://securelist.com/operation-tunnelsnake-and-moriya-rootkit/101831/                                   13/33\\n    5/7/2021                                          Operation TunnelSnake | Securelist\\n\\n\\n\\n                HTTP  scanner: command-line tool, found under the name ‘8.tmp’, which discovers web servers through banner grabbing.\\n                This is done by issuing a malformed HTTP packet to a given address, where no headers are included and the request is\\n                succeeded with multiple null bytes.\\n\\n\\n\\n\\n\\n\\n\\n\\n\\n\\n\\n                Fig. 7. Malformed packet generated by HTTP scanner\\n\\n                If the server responds, the output will be displayed in the console, as shown below.\\n\\n\\n\\n\\n\\n\\n\\n\\n\\n\\n\\n\\n\\n\\n\\n\\n\\n\\n\\n\\n\\n\\n    https://securelist.com/operation-tunnelsnake-and-moriya-rootkit/101831/                                   14/33\\n    5/7/2021                                          Operation TunnelSnake | Securelist\\n\\n\\n\\n                Fig. 8. Console output with a server response displayed upon discovery of a new server in the network\\n\\n                DCOM   Scanner: another command-line utility that attempts to connect to a remote host on TCP port 135 (RPC), and use\\n                the DCOM IOxidResolver interface to resolve addresses assigned to all network interfaces available on the remote system.\\n\\n                Fig. 9. Output of the DCOM scanner utility\\n\\n\\n\\n\\n\\n\\n\\n\\n\\n\\n\\n\\n\\n\\n\\n\\n\\n\\n\\n\\n\\n\\n\\n\\n\\n\\n\\n\\n\\n\\n\\n\\n\\n    https://securelist.com/operation-tunnelsnake-and-moriya-rootkit/101831/                                   15/33\\n    5/7/2021                                          Operation TunnelSnake | Securelist\\n\\n\\n\\n            Lateral Movement: tools used to spread to other hosts in the targeted networks.\\n\\n\\n\\n\\n\\n\\n\\n\\n\\n\\n\\n\\n\\n\\n\\n\\n\\n\\n\\n\\n\\n\\n\\n\\n\\n\\n\\n\\n\\n\\n\\n\\n\\n\\n\\n\\n\\n\\n    https://securelist.com/operation-tunnelsnake-and-moriya-rootkit/101831/                                   16/33\\n    5/7/2021                                          Operation TunnelSnake | Securelist\\n\\n\\n\\n                BOUNCER:  malware that was first described by Mandiant in their 2013[2] report on APT1. This tool is another passive\\n                backdoor that waits for incoming connections on a specific port and provides different features, as outlined below, that can\\n                be used to control a remote host and facilitate lateral movement from it.\\n\\n\\n                 1   0x01: Proxy Init Connection\\n\\n                 2          0x02: Proxy Send Packet\\n\\n                 3          0x03: Proxy Close Connection\\n                 4          0x07: Execute Shellcode\\n\\n                 5          0x0A: Kill Bot\\n\\n                 6          0x0C: Reverse Shell CMD\\n\\n                 7          0x0D: Delete File\\n\\n                 8          0x0E: Execute local program\\n\\n                 9          0x0F: Enumerate Servers In Domain and save output in gw.dat\\n\\n                 10         0x10: Enumerate SQL Servers and save output in sql.dat\\n\\n                 11         0x12: Reverse Shell CreateProcess\\n\\n                 12         0x16: Upload File - Write Data\\n\\n                 13         0x17: Download File - Finish\\n\\n                 14         0x1E: Download File - Start\\n\\n                 15         0x1F: Upload File - Start\\n\\n                 16         0x2D: Enumerate Servers\\n\\n                 17         0x2E: Enumerate SQL Server\\n\\n\\n    https://securelist.com/operation-tunnelsnake-and-moriya-rootkit/101831/                                   17/33\\n    5/7/2021                                          Operation TunnelSnake | Securelist\\n\\n\\n                 18         0x2F: Enumerate Servers Verbose\\n\\n                 19         0x30: Enumerate Users\\n\\n                 20         0x32: Do nothing\\n\\n\\n\\n                The BOUNCER sample that we observed contained a string that indicates which command-line arguments it anticipates:\\n\\n                 1  usage:%s IP port [proxip] [port] [key]\\n\\n\\n\\n                However, the backdoor is configured to accept only the port number on which it will listen.\\n                We saw two versions of this backdoor, initiated by two different launchers. The first one is an executable file named nw.tmp\\n                that decrypts an embedded payload using the RC4 algorithm and injects it into a newly spawned svchost.exe process. The\\n\\n                injected payload is similar to one described by Mandiant in 2013, which is yet another intermediate loader that decrypts and\\n                loads an embedded BOUNCER DLL. The last stage is started by invoking the DLL’s dump export with the arguments passed\\n                via the command line.\\n\\n                The other version was stored with the name rasauto.dll in the system directory, impersonating the Windows Remote Access\\n\\n                Auto Connection Manager library. Like the other version, it decrypts an embedded DLL using RC4, but this time uses no\\n                intermediate stage, instead directly calling the DLL’s dump export without arguments. The decrypted library is a slightly\\n                modified BOUNCER variant that always listens on the hardcoded port 1437.\\n\\n\\n\\n\\n\\n\\n\\n\\n\\n\\n\\n\\n\\n    https://securelist.com/operation-tunnelsnake-and-moriya-rootkit/101831/                                   18/33\\n    5/7/2021                                          Operation TunnelSnake | Securelist\\n\\n\\n\\n\\n\\n\\n\\n\\n\\n\\n\\n\\n\\n\\n\\n\\n\\n                Fig. 10. Code from the second BOUNCER variant that uses the hardcoded port 1437 to listen for new\\n\\n                packets\\n\\n                Based on compilation timestamps of all BOUNCER-related executables, as shown below, we assess that the attacker reused\\n                old samples of the malware rather than compiled new versions of it:\\n\\n\\n                 1  nw.tmp – stage 0 - launcher - 08-03-2017 03:56:24\\n\\n                 2         nw.tmp – stage 1 - embedded loader - 26-08-2014 04:49:58\\n\\n                 3         nw.tmp – stage 2 - embedded BOUNCER backdoor - 28-05-2012 13:44:37\\n                 4\\n\\n                 5         rasauto.dll - stage 0 – loader 26-08-2013 09:37:08\\n\\n                 6         rasauto.dll - stage 1 - embedded BOUNCER backdoor - 26-08-2013 09:36:27\\n\\n\\n\\n\\n\\n\\n\\n    https://securelist.com/operation-tunnelsnake-and-moriya-rootkit/101831/                                   19/33\\n    5/7/2021                                          Operation TunnelSnake | Securelist\\n\\n\\n\\n                Custom PSExec: the attacker deployed a tool to execute commands remotely on compromised machines. Like the original\\n                PSExec tool, this one consists of two components – a client named tmp and a service named pv.tmp. In order to use the tool,\\n                the attacker has to execute it via a command line with the parameters specified below.\\n\\n\\n                 1  Usage: psexec <hostname > psserve_path exefilename ServerName[option]\\\\n\\n\\n\\n                The service component is a tiny program that uses the CreateProcessA API to start a program specified as an argument. The\\n                client component uses the Service Control Manager (SCM) API to create a service on the target machine. If the ServerName\\n\\n                argument is not specified, the service will be named Server%c%c where %c is a random lower case character. The\\n                exefilename argument is then passed to the StartServiceA function in order to initiate the command execution.\\n\\n\\n\\n\\n\\n\\n\\n\\n\\n\\n\\n\\n\\n\\n\\n\\n\\n\\n\\n\\n\\n\\n\\n                Fig. 11. Code used to create and start the service on targeted host\\n\\n\\n    https://securelist.com/operation-tunnelsnake-and-moriya-rootkit/101831/                                   20/33\\n    5/7/2021                                          Operation TunnelSnake | Securelist\\n\\n\\n\\n                It is worth noting that the program has some limitations. Compared with the original PSExec, it is not able to copy the\\n                service binary (i.e., pv.tmp, which has its path specified in the psserve_path argument) to a remote machine, but rather\\n                assumes it is already present on it. Besides, it cannot handle network credentials, limiting the ability to execute commands as\\n                other users, nor does it support pipes, which means it does not receive the output of the commands it issues.\\n\\n\\n\\n\\n\\n\\n\\n\\n\\n\\n\\n\\n\\n\\n\\n\\n\\n\\n\\n\\n\\n\\n\\n\\n\\n\\n\\n\\n\\n\\n\\n\\n\\n\\n\\n    https://securelist.com/operation-tunnelsnake-and-moriya-rootkit/101831/                                   21/33\\n    5/7/2021                                          Operation TunnelSnake | Securelist\\n\\n\\n\\n            Exfiltration: multi-platform utilities commonly used to establish connections with remote hosts and conduct file system\\n            operations on them, including file upload and download.\\n\\n\\n\\n\\n\\n\\n\\n\\n\\n\\n\\n\\n\\n\\n\\n\\n\\n\\n\\n\\n\\n\\n\\n\\n\\n\\n\\n\\n\\n\\n\\n\\n\\n\\n\\n\\n\\n    https://securelist.com/operation-tunnelsnake-and-moriya-rootkit/101831/                                   22/33\\n    5/7/2021                                          Operation TunnelSnake | Securelist\\n\\n\\n\\n                Earthworm  and Termite: well-known command-line utilities developed to facilitate intrusion into intranet networks.\\n                These programs are multiplatform and can be deployed on various architectures. Earthworm is used to create tunnels\\n                between compromised hosts and transfer data.\\n\\n                Fig. 12. Earthworm help message\\n\\n                Termite provides additional features to download and upload files\\n\\n                between the compromised hosts, as well as a way to spawn a remote\\n                shell to control the targeted machine.\\n\\n\\n\\n\\n\\n\\n\\n\\n\\n\\n\\n\\n\\n\\n\\n\\n\\n\\n\\n\\n\\n\\n\\n\\n\\n\\n\\n\\n\\n    https://securelist.com/operation-tunnelsnake-and-moriya-rootkit/101831/                                   23/33\\n    5/7/2021                                          Operation TunnelSnake | Securelist\\n\\n\\n\\n\\n\\n\\n\\n\\n\\n\\n\\n\\n\\n\\n\\n\\n\\n\\n\\n\\n\\n\\n\\n\\n\\n\\n\\n\\n                Fig. 13. Termite help message\\n\\n\\n\\n\\n\\n\\n\\n\\n\\n\\n\\n\\n\\n    https://securelist.com/operation-tunnelsnake-and-moriya-rootkit/101831/                                   24/33\\n    5/7/2021                                          Operation TunnelSnake | Securelist\\n\\n\\n\\n                TRAN:  another tool that we detected under the filename tmp that was used to transfer data between compromised hosts.\\n                The binary we saw operated as a loader that embodies a tiny web server encrypted with the RC4 algorithm within it. This\\n                server is later injected into a newly created legitimate schtask.exe process and usually listens on port 49158. It is used for\\n                managing files uploaded by the attacker into an in-memory virtual file system maintained by the malware.By default the file\\n\\n                system includes a tiny program named client.exe, which can be downloaded by any host using a standard HTTP GET request\\n                to the path /client.exe. This file is a command-line utility that can be used to control the virtual file system managed by the\\n                server, through one of several available commands outlined below.\\n\\n\\n\\n\\n                Fig. 14. Client.exe help message\\n\\n\\n        IISSpy: tracing Moriya back to a user-mode rootkit\\n\\n        IISSpy is an older user-mode version of the Moriya rootkit that we were able to pinpoint in our telemetry. It is used to target IIS servers\\n        for establishing a backdoor in their underlying websites. It was detected on a machine in 2018, unrelated to any of the attacks in the\\n\\n        current operation. This suggests the threat actor has been active since at least that year.\\n\\n        The malware, which comes as a DLL, achieves its goals by enumerating running IIS processes on the server (i.e., those that are executed\\n        from the image w3wp.exe), and injecting the malware’s DLL into them to alter their behavior. The executed code in the IIS processes\\n        will then set inline hooks for several functions, most notably CreateFileW.\\n\\n        The corresponding CreateFileW hook function checks if the filename argument contains the directory ‘\\\\MORIYA\\\\’ or ‘\\\\moriya\\\\’ in its\\n\\n        path, and if so, infers that the attacker has sent a specially crafted HTTP request to the web server. In this request, the Moriya path in\\n        the URL is followed by an encoded command. After the command is decoded and processed, it is passed via a mailslot\\n        (\\\\\\\\.\\\\mailslot\\\\slot) to a separate thread, while signaling an event called Global\\\\CommandEvent.\\n\\n\\n\\n\\n\\n\\n\\n\\n    https://securelist.com/operation-tunnelsnake-and-moriya-rootkit/101831/                                   25/33\\n    5/7/2021                                          Operation TunnelSnake | Securelist\\n\\n\\n\\n\\n\\n\\n\\n\\n\\n\\n\\n        Fig. 15. Code of the CreateFileW hook function that looks for the ‘MORIYA’ \\\\ ‘moriya’ directory in a request path\\n\\n        Should the currently handled file contain the Moriya path, the very same hook function will generate a special file on the web server to\\n        which command execution output will be written. This file’s path is created by finding the position of the ‘\\\\MORIYA\\\\’ or ‘\\\\moriya\\\\’\\n\\n        strings in the inspected filename argument, and replacing it with the string ‘\\\\IISINFO.HTM’. This will then be appended to the\\n        command data passed on the mailslot, following a ‘ > ‘ character.\\n\\n        The other thread waiting on the command event mentioned above is in charge of processing attacker data fetched from the mailslot. Any\\n        such command will be read and parsed to find the ‘ > ‘ character and the file path that follows it, in this case the one corresponding to\\n\\n        ‘IISINFO.HTML’. After executing the command via cmd.exe, the output will be written to the file in this path, allowing the attacker to\\n        read it by issuing a corresponding HTTP request where the URL path leads to this file on the server.\\n\\n        Other functions that are hooked in the IIS process are CreateProcessAsUserW and CreateProcessW. These are used to detect if the\\n        current process spawns a new server instance, which will in turn be injected with the malware’s DLL. Apart from this, IISSpy will also\\n\\n        create a monitoring thread that will periodically look for newly created httpd.exe processes, corresponding to the Apache server. If\\n        detected, the malware will be injected to them as well.\\n\\n        Although it is evident from both the functionality and use of the Moriya keyword by the malware that IISSpy and the Moriya rootkit are\\n        related, further evidence in the code substantiates the connection:\\n\\n\\n            The older variant is capable of creating a reverse shell transmitted through an overt channel in exactly the same way as the more\\n            recent version of the malware, i.e., it identifies a connect request followed by a C&C server address and port, connects to it and\\n            redirects the IO of a new exe process to the underlying socket.\\n\\n\\n\\n\\n    https://securelist.com/operation-tunnelsnake-and-moriya-rootkit/101831/                                   26/33\\n    5/7/2021                                          Operation TunnelSnake | Securelist\\n\\n\\n\\n            Both variants use the same packet encoding and decoding algorithm, whereby each clear-text byte is XORed with 0x5 and negated,\\n            and vice-versa.\\n\\n        Fig. 16. Packet decoding loop that follows the same logic as that used in Moriya\\n\\n            In both cases the developers left a trail of unique debug messages, issued to the\\n            OutputDebugString API function. An example of such a string used in identical code in the\\n\\n            two variants is shown below.\\n\\n\\n\\n\\n\\n\\n\\n\\n\\n\\n\\n\\n\\n\\n\\n\\n\\n\\n\\n\\n\\n\\n\\n\\n\\n\\n\\n\\n\\n\\n    https://securelist.com/operation-tunnelsnake-and-moriya-rootkit/101831/                                   27/33\\n    5/7/2021                                          Operation TunnelSnake | Securelist\\n\\n\\n\\n\\n\\n\\n\\n\\n\\n\\n\\n\\n\\n\\n\\n\\n\\n\\n\\n\\n\\n\\n\\n\\n\\n\\n\\n\\n\\n\\n\\n\\n\\n\\n        Fig. 17. Code used in both variants to spawn a new shell, while printing unique debug messages\\n\\n            Both implants are deployed by invoking an export function named Install that creates a service that allows persistent execution,\\n            with the malware’s logic residing in the ServiceMain Moreover, the Install functions are highly similar to one another.\\n\\n\\n\\n\\n    https://securelist.com/operation-tunnelsnake-and-moriya-rootkit/101831/                                   28/33\\n    5/7/2021                                          Operation TunnelSnake | Securelist\\n\\n\\n\\n        Fig. 18. Comparison of Install export function CFGs between IISSpy and\\n        Moriya\\n\\n\\n\\n\\n\\n\\n\\n\\n\\n\\n\\n\\n\\n\\n\\n\\n\\n\\n\\n\\n\\n\\n\\n\\n\\n\\n\\n\\n\\n\\n\\n\\n\\n        The ProcessKiller rootkit vs. security products\\n\\n\\n\\n    https://securelist.com/operation-tunnelsnake-and-moriya-rootkit/101831/                                   29/33\\n    5/7/2021                                          Operation TunnelSnake | Securelist\\n\\n\\n\\n        Another interesting artefact found in our telemetry that could be tied to the developers of Moriya is a malware named ProcessKiller. As\\n        its name suggests, it is intended to eliminate execution of processes, with the use of a kernel mode driver. Ultimately, this tool is used to\\n        shut down and block initiation of AV processes from kernel space, thus allowing other attack tools to run without being detected.\\n\\n        This malware operates through the following stages:\\n\\n            An attacker calls the malware’s DLL from an export named Kill, passing it a list of process names it would like to shut down and\\n\\n            block as a command-line argument.\\n            The malware writes a driver that is embedded as a resource within it, impersonating a Kaspersky driver under the path\\n            %SYSTEM%\\\\drivers\\\\kavp.sys.\\n\\n            There is an attempt to load the driver using the Service Control Manager. However, since it is not signed and loading is prone to\\n            fail on Windows versions above Vista 64-bit, the malware uses the same DSEFix code to bypass Digital Signature Enforcement as\\n            witnessed in Moriya’s user mode agent.\\n            The malware parses the process names passed as arguments and creates a vector of ‘blacklisted processes’ out of them.\\n\\n            For each process in the list, the malware detects its PID and issues it through an IOCTL with code 0x22200C to the driver which is\\n            in charge of shutting it down from kernel space. The shutdown is carried out by locating the process object with the function\\n            PsLookupProcessByProcessId and then terminating it with ZwTerminateProcess.\\n            The list of processes is then passed via another IOCTL with the code 0x222004 to the driver, which inserts each member of it to a\\n\\n            linked list in kernel space. When the driver is bootstrapped, it registers a callback for newly created processes through the\\n            PsSetCreateProcessNotifyRoutineEx function, which inspects the image name of the created process and compares it against those\\n            found in the linked list. If a match is found, the process creation status in the PPS_CREATE_NOTIFY_INFO structure will be set\\n            to STATUS_UNSUCCESSFUL, signaling the user space API function that process creation failed.\\n\\n            At this point any other malware can theoretically operate without being detected.\\n            If the attacker wishes to disable blacklisting, it can be done by issuing an IOCTL with the code 0x222008, which would destroy the\\n            linked list of blacklisted processes.\\n\\n        Once again, the connection to Moriya is based on several observations:\\n\\n\\n            Distinct debug error messages, as the one presented below.\\n\\n        Fig. 19. Unique debug message that appears in ProcessKiller and Moriya\\n\\n\\n    https://securelist.com/operation-tunnelsnake-and-moriya-rootkit/101831/                                   30/33\\n    5/7/2021                                          Operation TunnelSnake | Securelist\\n\\n\\n\\n            Filename of the same structure, i.e., Moriya’s agent is internally named\\n            ‘MoriyaServiceX64.dll’, and ProcessKiller’s DLL is named ‘ProcessKillerX64.dll’\\n            Usage of the exact same DSEFix code to load an unsigned driver.\\n\\n\\n\\n\\n\\n        What  do we know  about the threat actor?\\n\\n        Unfortunately, we are not able to attribute the attack to any particular known actor, but based on the TTPs used throughout the\\n        campaign, we suppose it is a Chinese-speaking one. We base this on the fact that the targeted entities were attacked in the past by\\n\\n        Chinese-speaking actors, and are generally located in countries that are usually targeted by such an actor profile. Moreover, the tools\\n        leveraged by the attackers, such as China Chopper, BOUNCER, Termite and Earthworm, are an additional indicator supporting our\\n        hypothesis as they have previously been used in campaigns attributed to well-known Chinese-speaking groups.\\n\\n\\n        Who  were  the targets?\\n\\n        Based on our telemetry the attacks were highly targeted and delivered to less than 10 victims around the world. The most prominent\\n        victims are two large regional diplomatic organizations in South-East Asia and Africa, while all the others were victims in South Asia.\\n\\n\\n        Conclusion\\n\\n        The TunnelSnake campaign demonstrates the activity of a sophisticated actor that invests significant resources in designing an evasive\\n        toolset and infiltrating networks of high-profile organizations. By leveraging Windows drivers, covert communications channels and\\n\\n        proprietary malware, the group behind it maintains a considerable level of stealth. That said, some of its TTPs, like the usage of a\\n        commodity webshell and open-source legacy code for loading unsigned drivers, may get detected and in fact were flagged by our\\n        product, giving us visibility into the group’s operation.\\n\\n        Still, with activity dating back to at least 2018, the threat actor behind this campaign has shown that it is able to evolve and tailor its\\n\\n        toolset to target environments. This indicates the group conducting these attacks may well still be active and retooling for additional\\n        operations in the area of interest outlined in this publication, as well as other regions. With that in mind, we continue to track this\\n\\n\\n    https://securelist.com/operation-tunnelsnake-and-moriya-rootkit/101831/                                   31/33\\n    5/7/2021                                          Operation TunnelSnake | Securelist\\n\\n\\n\\n        attacker and look for signs of its reappearance in the wild. Any findings and updates will be made available to customers of our Threat\\n        Intelligence Portal.\\n\\n        For more information about operation TunnelSnake and the underlying threat actor, contact us at: intelreports@kaspersky.com.\\n        To learn more on reverse engineering and malware analysis from Kaspersky GReAT experts, check out the website\\n\\n        http://xtraining.kaspersky.com.\\n\\n        IOCs\\n\\n\\n         48307C22A930A2215F7601C78240A5EE   Moriya Agent\\n\\n         A2C4EE84E3A95C8731CA795F53F900D5   Moriya 64-bit Driver\\n\\n         5F0F1B0A033587DBCD955EDB1CDC24A4   IISSpy\\n\\n         C1159FE3193E8B5206006B4C9AFBFE62   ProcessKiller\\n\\n         DA627AFEE096CDE0B680D39BD5081C41   ProcessKiller Driver – 32-bit\\n\\n         07CF58ABD6CE92D96CFC5ABC5F6CBC9A   ProcessKiller Driver – 64-bit\\n\\n         9A8F39EBCC580AA56D6DDAF5804EAE61   pv.tmp (Custom PSExec Server)\\n\\n         39C361ABB74F9A338EA42A083E6C7DF8   pc.tmp (Custom PsExec Client)\\n\\n         DE3FB65461EE8A68A3C7D490CDAC296D   tran.tmp (Exfiltration tool)\\n\\n         EAC0E57A22936D4C777AA121F799FEE6   client.exe (Utility embedded in tran.tmp)\\n\\n         D745174F5B0EB41D9F764B22A5ECD357   rasauto.dll (Bouncer Loader)\\n\\n         595E43CDF0EDCAA31525D7AAD87B7BE4   8.tmp (HTTP )Scanner\\n\\n         9D75B50727A8E732DB0ADE7E270A7395   ep.tmp DCOM Scanner\\n\\n\\n\\n    https://securelist.com/operation-tunnelsnake-and-moriya-rootkit/101831/                                   32/33\\n    5/7/2021                                          Operation TunnelSnake | Securelist\\n\\n\\n\\n         3A4E1F3F7E1BAAB8B02F3A8EE20F98C9   nw.tmp Bouncer Loader\\n\\n         47F2D06713DAD556F535E523B777C682   Termite\\n\\n         45A5D9053BC90ED657FA90DE0B775E8F   Earthworm\\n\\n        [1] Today a copy of the original code can be found here: http://www.m5home.com/bbs/thread-8043-1-1.html\\n\\n\\n        [2] https://www.fireeye.com/content/dam/fireeye-www/services/pdfs/mandiant-apt1-report.pdf\\n\\n        Operation TunnelSnake\\n\\n        Your email address will not be published. Required fields are marked *\\n\\n\\n\\n\\n\\n\\n\\n\\n\\n\\n\\n\\n\\n\\n\\n\\n\\n\\n\\n\\n\\n\\n\\n\\n\\n    https://securelist.com/operation-tunnelsnake-and-moriya-rootkit/101831/                                   33/33\\n'"
      ]
     },
     "execution_count": 25,
     "metadata": {},
     "output_type": "execute_result"
    }
   ],
   "source": [
    "tokenizer.decode(tokenized[0])"
   ]
  },
  {
   "cell_type": "code",
   "execution_count": 27,
   "metadata": {},
   "outputs": [
    {
     "data": {
      "text/plain": [
       "1000"
      ]
     },
     "execution_count": 27,
     "metadata": {},
     "output_type": "execute_result"
    }
   ],
   "source": [
    "len(preds[0])"
   ]
  },
  {
   "cell_type": "markdown",
   "metadata": {},
   "source": [
    "So it created a proper-length thing, but put the end-of-text indicator right at the beginning, and all spaces after that. weird. "
   ]
  },
  {
   "cell_type": "code",
   "execution_count": 28,
   "metadata": {
    "collapsed": true,
    "jupyter": {
     "outputs_hidden": true
    },
    "tags": []
   },
   "outputs": [
    {
     "data": {
      "text/plain": [
       "'\\n    5/7/2021                                          Operation TunnelSnake | Securelist\\n\\n\\n        Operation    TunnelSnake\\n\\n\\n          securelist.com/operation-tunnelsnake-and-moriya-rootkit/101831\\n\\n\\n\\n\\n\\n\\n\\n\\n\\n\\n\\n\\n\\n\\n\\n\\n\\n\\n\\n\\n\\n\\n\\n\\n\\n\\n\\n\\n\\n\\n        Formerly  unknown  rootkit used to secretly control networks of regional organizations\\n\\n\\n\\n\\n\\n    https://securelist.com/operation-tunnelsnake-and-moriya-rootkit/101831/                                   1/33\\n    5/7/2021                                          Operation TunnelSnake | Securelist\\n\\n\\n\\n        Windows rootkits, especially those operating in kernel space, are pieces of malware infamous for their near absolute power in the\\n        operating system. Usually deployed as drivers, such implants have high privileges in the system, allowing them to intercept and\\n        potentially tamper with core I/O operations conducted by the underlying OS, like reading or writing to files or processing incoming and\\n        outgoing network packets. The capability to blend into the fabric of the operating system itself, much like security products do, is the\\n\\n        quality that earns rootkits their notoriety for stealth and evasion.\\n\\n        Having said that, the successful deployment and execution of a rootkit component in Windows has become a difficult task over the\\n        years. With Microsoft’s introduction of Driver Signature Enforcement, it has become harder (though not impossible) to load and run\\n        new code in kernel space. Even then, other mechanisms such as Kernel Patch Protection (also known as PatchGuard) make it hard to\\n\\n        tamper with the system, with every change in a core system structure potentially invoking the infamous Blue Screen of Death.\\n\\n        Consequently, the number of Windows rootkits in the wild has decreased dramatically, with the bulk of those still active often being\\n        leveraged in high profile APT attacks. One such example came to our attention during an investigation last year, in which we uncovered\\n        a formerly unknown Windows rootkit and its underlying cluster of activity. We observed this rootkit and other tools by the threat actor\\n\\n        behind it being used as part of a campaign we dubbed ‘TunnelSnake’, conducted against several prominent organizations in Asia and\\n        Africa.\\n\\n        In this blog post we will focus on the following key findings that came up in our investigation:\\n\\n            A newly discovered rootkit that we dub ‘Moriya’ is used by an unknown actor to deploy passive backdoors on public facing servers,\\n\\n            facilitating the creation of a covert C&C communication channel through which they can be silently controlled;\\n            The rootkit was found on networks of regional diplomatic organizations in Asia and Africa, detected on several instances dating\\n            back to October 2019 and May 2020, where the infection persisted in the targeted networks for several months after each\\n            deployment of the malware;\\n\\n            We observed an additional victim in South Asia, where the threat actor deployed a broad toolset for lateral movement along with\\n            the rootkit, including a tool that was formerly used by APT1. Based on the detection timestamps of that toolset, we assess that the\\n            attacker had a foothold in the network from as early as 2018;\\n            A couple of'"
      ]
     },
     "execution_count": 28,
     "metadata": {},
     "output_type": "execute_result"
    }
   ],
   "source": [
    "tokenizer.decode(tokenized[0][:1000])"
   ]
  },
  {
   "cell_type": "markdown",
   "metadata": {},
   "source": [
    "It's true that a lot of the early characters here are spaces, so that part isn't *wrong* per-se, but why is it putting the <endoftext> token right at the beginning? So strange. In any case, it looks like it's tokenizing properly...those are valid tensors, it decodes back to what it was supposed to be. It's just the generation that's busted. Why?\n",
    "    \n",
    "Let's try a prompt that's just a minor modification of an existing one:"
   ]
  },
  {
   "cell_type": "code",
   "execution_count": 29,
   "metadata": {},
   "outputs": [
    {
     "data": {
      "text/plain": [
       "torch.Size([1, 52])"
      ]
     },
     "execution_count": 29,
     "metadata": {},
     "output_type": "execute_result"
    }
   ],
   "source": [
    "prompt = \"1/17/2022                                          Operation Underpants Gnomes\"\n",
    "prompt_ids = tokenizer.encode(prompt)\n",
    "inp = tensor(prompt_ids)[None]\n",
    "inp.shape"
   ]
  },
  {
   "cell_type": "code",
   "execution_count": 30,
   "metadata": {},
   "outputs": [
    {
     "name": "stderr",
     "output_type": "stream",
     "text": [
      "Setting `pad_token_id` to `eos_token_id`:50256 for open-end generation.\n"
     ]
    }
   ],
   "source": [
    "preds = learn.model.generate(None, min_length=1000, max_length=1000, num_beams=5, temperature=1.5)"
   ]
  },
  {
   "cell_type": "code",
   "execution_count": 31,
   "metadata": {},
   "outputs": [
    {
     "data": {
      "text/plain": [
       "'<|endoftext|>                                                                                                                                                                                                                                                                                                                                                                                                                                                                                                                                                                                                                                                                                                                                                                                                                                                                                                                                                                                                                                       '"
      ]
     },
     "execution_count": 31,
     "metadata": {},
     "output_type": "execute_result"
    }
   ],
   "source": [
    "tokenizer.decode(preds[0].cpu().numpy())"
   ]
  },
  {
   "cell_type": "code",
   "execution_count": 32,
   "metadata": {},
   "outputs": [
    {
     "data": {
      "text/plain": [
       "1000"
      ]
     },
     "execution_count": 32,
     "metadata": {},
     "output_type": "execute_result"
    }
   ],
   "source": [
    "len(preds[0])"
   ]
  },
  {
   "cell_type": "code",
   "execution_count": 33,
   "metadata": {
    "collapsed": true,
    "jupyter": {
     "outputs_hidden": true
    },
    "tags": []
   },
   "outputs": [
    {
     "data": {
      "text/plain": [
       "tensor([50256,   220,   220,   220,   220,   220,   220,   220,   220,   220,\n",
       "          220,   220,   220,   220,   220,   220,   220,   220,   220,   220,\n",
       "          220,   220,   220,   220,   220,   220,   220,   220,   220,   220,\n",
       "          220,   220,   220,   220,   220,   220,   220,   220,   220,   220,\n",
       "          220,   220,   220,   220,   220,   220,   220,   220,   220,   220,\n",
       "          220,   220,   220,   220,   220,   220,   220,   220,   220,   220,\n",
       "          220,   220,   220,   220,   220,   220,   220,   220,   220,   220,\n",
       "          220,   220,   220,   220,   220,   220,   220,   220,   220,   220,\n",
       "          220,   220,   220,   220,   220,   220,   220,   220,   220,   220,\n",
       "          220,   220,   220,   220,   220,   220,   220,   220,   220,   220,\n",
       "          220,   220,   220,   220,   220,   220,   220,   220,   220,   220,\n",
       "          220,   220,   220,   220,   220,   220,   220,   220,   220,   220,\n",
       "          220,   220,   220,   220,   220,   220,   220,   220,   220,   220,\n",
       "          220,   220,   220,   220,   220,   220,   220,   220,   220,   220,\n",
       "          220,   220,   220,   220,   220,   220,   220,   220,   220,   220,\n",
       "          220,   220,   220,   220,   220,   220,   220,   220,   220,   220,\n",
       "          220,   220,   220,   220,   220,   220,   220,   220,   220,   220,\n",
       "          220,   220,   220,   220,   220,   220,   220,   220,   220,   220,\n",
       "          220,   220,   220,   220,   220,   220,   220,   220,   220,   220,\n",
       "          220,   220,   220,   220,   220,   220,   220,   220,   220,   220,\n",
       "          220,   220,   220,   220,   220,   220,   220,   220,   220,   220,\n",
       "          220,   220,   220,   220,   220,   220,   220,   220,   220,   220,\n",
       "          220,   220,   220,   220,   220,   220,   220,   220,   220,   220,\n",
       "          220,   220,   220,   220,   220,   220,   220,   220,   220,   220,\n",
       "          220,   220,   220,   220,   220,   220,   220,   220,   220,   220,\n",
       "          220,   220,   220,   220,   220,   220,   220,   220,   220,   220,\n",
       "          220,   220,   220,   220,   220,   220,   220,   220,   220,   220,\n",
       "          220,   220,   220,   220,   220,   220,   220,   220,   220,   220,\n",
       "          220,   220,   220,   220,   220,   220,   220,   220,   220,   220,\n",
       "          220,   220,   220,   220,   220,   220,   220,   220,   220,   220,\n",
       "          220,   220,   220,   220,   220,   220,   220,   220,   220,   220,\n",
       "          220,   220,   220,   220,   220,   220,   220,   220,   220,   220,\n",
       "          220,   220,   220,   220,   220,   220,   220,   220,   220,   220,\n",
       "          220,   220,   220,   220,   220,   220,   220,   220,   220,   220,\n",
       "          220,   220,   220,   220,   220,   220,   220,   220,   220,   220,\n",
       "          220,   220,   220,   220,   220,   220,   220,   220,   220,   220,\n",
       "          220,   220,   220,   220,   220,   220,   220,   220,   220,   220,\n",
       "          220,   220,   220,   220,   220,   220,   220,   220,   220,   220,\n",
       "          220,   220,   220,   220,   220,   220,   220,   220,   220,   220,\n",
       "          220,   220,   220,   220,   220,   220,   220,   220,   220,   220,\n",
       "          220,   220,   220,   220,   220,   220,   220,   220,   220,   220,\n",
       "          220,   220,   220,   220,   220,   220,   220,   220,   220,   220,\n",
       "          220,   220,   220,   220,   220,   220,   220,   220,   220,   220,\n",
       "          220,   220,   220,   220,   220,   220,   220,   220,   220,   220,\n",
       "          220,   220,   220,   220,   220,   220,   220,   220,   220,   220,\n",
       "          220,   220,   220,   220,   220,   220,   220,   220,   220,   220,\n",
       "          220,   220,   220,   220,   220,   220,   220,   220,   220,   220,\n",
       "          220,   220,   220,   220,   220,   220,   220,   220,   220,   220,\n",
       "          220,   220,   220,   220,   220,   220,   220,   220,   220,   220,\n",
       "          220,   220,   220,   220,   220,   220,   220,   220,   220,   220,\n",
       "          220,   220,   220,   220,   220,   220,   220,   220,   220,   220,\n",
       "          220,   220,   220,   220,   220,   220,   220,   220,   220,   220,\n",
       "          220,   220,   220,   220,   220,   220,   220,   220,   220,   220,\n",
       "          220,   220,   220,   220,   220,   220,   220,   220,   220,   220,\n",
       "          220,   220,   220,   220,   220,   220,   220,   220,   220,   220,\n",
       "          220,   220,   220,   220,   220,   220,   220,   220,   220,   220,\n",
       "          220,   220,   220,   220,   220,   220,   220,   220,   220,   220,\n",
       "          220,   220,   220,   220,   220,   220,   220,   220,   220,   220,\n",
       "          220,   220,   220,   220,   220,   220,   220,   220,   220,   220,\n",
       "          220,   220,   220,   220,   220,   220,   220,   220,   220,   220,\n",
       "          220,   220,   220,   220,   220,   220,   220,   220,   220,   220,\n",
       "          220,   220,   220,   220,   220,   220,   220,   220,   220,   220,\n",
       "          220,   220,   220,   220,   220,   220,   220,   220,   220,   220,\n",
       "          220,   220,   220,   220,   220,   220,   220,   220,   220,   220,\n",
       "          220,   220,   220,   220,   220,   220,   220,   220,   220,   220,\n",
       "          220,   220,   220,   220,   220,   220,   220,   220,   220,   220,\n",
       "          220,   220,   220,   220,   220,   220,   220,   220,   220,   220,\n",
       "          220,   220,   220,   220,   220,   220,   220,   220,   220,   220,\n",
       "          220,   220,   220,   220,   220,   220,   220,   220,   220,   220,\n",
       "          220,   220,   220,   220,   220,   220,   220,   220,   220,   220,\n",
       "          220,   220,   220,   220,   220,   220,   220,   220,   220,   220,\n",
       "          220,   220,   220,   220,   220,   220,   220,   220,   220,   220,\n",
       "          220,   220,   220,   220,   220,   220,   220,   220,   220,   220,\n",
       "          220,   220,   220,   220,   220,   220,   220,   220,   220,   220,\n",
       "          220,   220,   220,   220,   220,   220,   220,   220,   220,   220,\n",
       "          220,   220,   220,   220,   220,   220,   220,   220,   220,   220,\n",
       "          220,   220,   220,   220,   220,   220,   220,   220,   220,   220,\n",
       "          220,   220,   220,   220,   220,   220,   220,   220,   220,   220,\n",
       "          220,   220,   220,   220,   220,   220,   220,   220,   220,   220,\n",
       "          220,   220,   220,   220,   220,   220,   220,   220,   220,   220,\n",
       "          220,   220,   220,   220,   220,   220,   220,   220,   220,   220,\n",
       "          220,   220,   220,   220,   220,   220,   220,   220,   220,   220,\n",
       "          220,   220,   220,   220,   220,   220,   220,   220,   220,   220,\n",
       "          220,   220,   220,   220,   220,   220,   220,   220,   220,   220,\n",
       "          220,   220,   220,   220,   220,   220,   220,   220,   220,   220,\n",
       "          220,   220,   220,   220,   220,   220,   220,   220,   220,   220,\n",
       "          220,   220,   220,   220,   220,   220,   220,   220,   220,   220,\n",
       "          220,   220,   220,   220,   220,   220,   220,   220,   220,   220,\n",
       "          220,   220,   220,   220,   220,   220,   220,   220,   220,   220,\n",
       "          220,   220,   220,   220,   220,   220,   220,   220,   220,   220,\n",
       "          220,   220,   220,   220,   220,   220,   220,   220,   220,   220,\n",
       "          220,   220,   220,   220,   220,   220,   220,   220,   220,   220,\n",
       "          220,   220,   220,   220,   220,   220,   220,   220,   220,   220,\n",
       "          220,   220,   220,   220,   220,   220,   220,   220,   220,   220,\n",
       "          220,   220,   220,   220,   220,   220,   220,   220,   220,   220,\n",
       "          220,   220,   220,   220,   220,   220,   220,   220,   220,   220,\n",
       "          220,   220,   220,   220,   220,   220,   220,   220,   220,   220,\n",
       "          220,   220,   220,   220,   220,   220,   220,   220,   220,   220,\n",
       "          220,   220,   220,   220,   220,   220,   220,   220,   220,   220,\n",
       "          220,   220,   220,   220,   220,   220,   220,   220,   220,   220],\n",
       "       device='cuda:0')"
      ]
     },
     "execution_count": 33,
     "metadata": {},
     "output_type": "execute_result"
    }
   ],
   "source": [
    "preds[0]"
   ]
  },
  {
   "cell_type": "markdown",
   "metadata": {},
   "source": [
    "Ugh. Apparently GPT2 is looking for `<|startoftext|>` and `<|endoftext|>` markers on every sample in training, so it believes it was trained with a bunch of empty data. Need to re-read the initial input all over again, and add those tags into the text. \n",
    "\n",
    "(source: https://towardsdatascience.com/how-to-fine-tune-gpt-2-so-you-can-generate-long-form-creative-writing-7a5ae1314a61)"
   ]
  },
  {
   "cell_type": "code",
   "execution_count": 34,
   "metadata": {},
   "outputs": [],
   "source": [
    "values = list()\n",
    "for entry in os.listdir(base_dir):\n",
    "    if entry.endswith(\".txt\"):\n",
    "        with open(os.path.join(base_dir, entry)) as infile:\n",
    "            data = \"<|startoftext|>\" + infile.read() + \"<|endoftext|>\"\n",
    "            values.append(data)\n",
    "df = pd.DataFrame(data=values, columns=[\"text\"])"
   ]
  },
  {
   "cell_type": "code",
   "execution_count": 35,
   "metadata": {},
   "outputs": [],
   "source": [
    "train, valid = train_test_split(df, test_size=0.1, random_state=42)\n",
    "all_texts = np.concatenate([train['text'].values, valid['text'].values])\n",
    "splits = [range_of(train), list(range(len(train), len(all_texts)))]"
   ]
  },
  {
   "cell_type": "code",
   "execution_count": 12,
   "metadata": {},
   "outputs": [],
   "source": [
    "bs,sl = 4,256"
   ]
  },
  {
   "cell_type": "code",
   "execution_count": 9,
   "metadata": {},
   "outputs": [],
   "source": [
    "class DropOutput(Callback):\n",
    "    def after_pred(self): self.learn.pred = self.pred[0]"
   ]
  },
  {
   "cell_type": "code",
   "execution_count": 38,
   "metadata": {},
   "outputs": [
    {
     "data": {
      "text/html": [
       "\n",
       "    <div>\n",
       "        <style>\n",
       "            /* Turns off some styling */\n",
       "            progress {\n",
       "                /* gets rid of default border in Firefox and Opera. */\n",
       "                border: none;\n",
       "                /* Needs to be in here for Safari polyfill so background images work as expected. */\n",
       "                background-size: auto;\n",
       "            }\n",
       "            .progress-bar-interrupted, .progress-bar-interrupted::-webkit-progress-bar {\n",
       "                background: #F44336;\n",
       "            }\n",
       "        </style>\n",
       "      <progress value='1454' class='' max='1454' style='width:300px; height:20px; vertical-align: middle;'></progress>\n",
       "      100.00% [1454/1454 01:21<00:00]\n",
       "    </div>\n",
       "    "
      ],
      "text/plain": [
       "<IPython.core.display.HTML object>"
      ]
     },
     "metadata": {},
     "output_type": "display_data"
    }
   ],
   "source": [
    "def tokenize(text):\n",
    "    toks = tokenizer.tokenize(text)\n",
    "    return tensor(tokenizer.convert_tokens_to_ids(toks))\n",
    "\n",
    "tokenized = [tokenize(t) for t in progress_bar(all_texts)]"
   ]
  },
  {
   "cell_type": "code",
   "execution_count": 8,
   "metadata": {},
   "outputs": [],
   "source": [
    "class TransformersTokenizer(Transform):\n",
    "    def __init__(self, tokenizer): self.tokenizer = tokenizer\n",
    "    def encodes(self, x): \n",
    "        return x if isinstance(x, Tensor) else tokenize(x)\n",
    "        \n",
    "    def decodes(self, x): return TitledStr(self.tokenizer.decode(x.cpu().numpy()))"
   ]
  },
  {
   "cell_type": "code",
   "execution_count": 40,
   "metadata": {},
   "outputs": [],
   "source": [
    "tls = TfmdLists(tokenized, TransformersTokenizer(tokenizer), splits=splits, dl_type=LMDataLoader)\n",
    "dls = tls.dataloaders(bs=bs, seq_len=sl)"
   ]
  },
  {
   "cell_type": "code",
   "execution_count": 41,
   "metadata": {},
   "outputs": [],
   "source": [
    "learn = Learner(dls, model, loss_func=CrossEntropyLossFlat(), cbs=[DropOutput], metrics=Perplexity()).to_fp16()"
   ]
  },
  {
   "cell_type": "code",
   "execution_count": 42,
   "metadata": {},
   "outputs": [
    {
     "data": {
      "text/html": [],
      "text/plain": [
       "<IPython.core.display.HTML object>"
      ]
     },
     "metadata": {},
     "output_type": "display_data"
    },
    {
     "data": {
      "text/plain": [
       "SuggestedLRs(valley=6.30957365501672e-05)"
      ]
     },
     "execution_count": 42,
     "metadata": {},
     "output_type": "execute_result"
    },
    {
     "data": {
      "image/png": "[encoded data removed]",
      "text/plain": [
       "<Figure size 432x288 with 1 Axes>"
      ]
     },
     "metadata": {
      "needs_background": "light"
     },
     "output_type": "display_data"
    }
   ],
   "source": [
    "learn.lr_find()"
   ]
  },
  {
   "cell_type": "code",
   "execution_count": 43,
   "metadata": {},
   "outputs": [
    {
     "data": {
      "text/html": [
       "<table border=\"1\" class=\"dataframe\">\n",
       "  <thead>\n",
       "    <tr style=\"text-align: left;\">\n",
       "      <th>epoch</th>\n",
       "      <th>train_loss</th>\n",
       "      <th>valid_loss</th>\n",
       "      <th>perplexity</th>\n",
       "      <th>time</th>\n",
       "    </tr>\n",
       "  </thead>\n",
       "  <tbody>\n",
       "    <tr>\n",
       "      <td>0</td>\n",
       "      <td>1.919942</td>\n",
       "      <td>1.863471</td>\n",
       "      <td>6.446073</td>\n",
       "      <td>1:09:41</td>\n",
       "    </tr>\n",
       "  </tbody>\n",
       "</table>"
      ],
      "text/plain": [
       "<IPython.core.display.HTML object>"
      ]
     },
     "metadata": {},
     "output_type": "display_data"
    }
   ],
   "source": [
    "learn.fit_one_cycle(1, 1e-4)"
   ]
  },
  {
   "cell_type": "code",
   "execution_count": 44,
   "metadata": {},
   "outputs": [
    {
     "data": {
      "text/plain": [
       "Path('models/better-fine-tuned.pth')"
      ]
     },
     "execution_count": 44,
     "metadata": {},
     "output_type": "execute_result"
    }
   ],
   "source": [
    "learn.save(\"better-fine-tuned\")"
   ]
  },
  {
   "cell_type": "code",
   "execution_count": 54,
   "metadata": {},
   "outputs": [
    {
     "data": {
      "text/plain": [
       "torch.Size([1, 15])"
      ]
     },
     "execution_count": 54,
     "metadata": {},
     "output_type": "execute_result"
    }
   ],
   "source": [
    "prompt = \"<|startoftext|>\\n Checkerboard spider \\n \"\n",
    "prompt_ids = tokenizer.encode(prompt)\n",
    "inp = tensor(prompt_ids)[None]\n",
    "inp.shape"
   ]
  },
  {
   "cell_type": "code",
   "execution_count": 55,
   "metadata": {},
   "outputs": [
    {
     "name": "stderr",
     "output_type": "stream",
     "text": [
      "Setting `pad_token_id` to `eos_token_id`:50256 for open-end generation.\n"
     ]
    }
   ],
   "source": [
    "preds = learn.model.generate(inp.cuda(), min_length=1000, max_length=1000, num_beams=5, temperature=1.5)"
   ]
  },
  {
   "cell_type": "code",
   "execution_count": 56,
   "metadata": {},
   "outputs": [
    {
     "data": {
      "text/plain": [
       "'<|startoftext|>\\n Checkerboard spider \\n                                                                                                                                                                                                                                                                                                                                                                                                                                                                                                                                                                                                                                                                                                                                                                                                                                                                                                                                                                                                                          '"
      ]
     },
     "execution_count": 56,
     "metadata": {},
     "output_type": "execute_result"
    }
   ],
   "source": [
    "tokenizer.decode(preds[0].cpu().numpy())"
   ]
  },
  {
   "cell_type": "code",
   "execution_count": 53,
   "metadata": {
    "collapsed": true,
    "jupyter": {
     "outputs_hidden": true
    },
    "tags": []
   },
   "outputs": [
    {
     "data": {
      "text/plain": [
       "tensor([[  198,  6822,   263,  3526, 19230,   220,   198,   220,   220,   220,\n",
       "           220,   220,   220,   220,   220,   220,   220,   220,   220,   220,\n",
       "           220,   220,   220,   220,   220,   220,   220,   220,   220,   220,\n",
       "           220,   220,   220,   220,   220,   220,   220,   220,   220,   220,\n",
       "           220,   220,   220,   220,   220,   220,   220,   220,   220,   220,\n",
       "           220,   220,   220,   220,   220,   220,   220,   220,   220,   220,\n",
       "           220,   220,   220,   220,   220,   220,   220,   220,   220,   220,\n",
       "           220,   220,   220,   220,   220,   220,   220,   220,   220,   220,\n",
       "           220,   220,   220,   220,   220,   220,   220,   220,   220,   220,\n",
       "           220,   220,   220,   220,   220,   220,   220,   220,   220,   220,\n",
       "           220,   220,   220,   220,   220,   220,   220,   220,   220,   220,\n",
       "           220,   220,   220,   220,   220,   220,   220,   220,   220,   220,\n",
       "           220,   220,   220,   220,   220,   220,   220,   220,   220,   220,\n",
       "           220,   220,   220,   220,   220,   220,   220,   220,   220,   220,\n",
       "           220,   220,   220,   220,   220,   220,   220,   220,   220,   220,\n",
       "           220,   220,   220,   220,   220,   220,   220,   220,   220,   220,\n",
       "           220,   220,   220,   220,   220,   220,   220,   220,   220,   220,\n",
       "           220,   220,   220,   220,   220,   220,   220,   220,   220,   220,\n",
       "           220,   220,   220,   220,   220,   220,   220,   220,   220,   220,\n",
       "           220,   220,   220,   220,   220,   220,   220,   220,   220,   220,\n",
       "           220,   220,   220,   220,   220,   220,   220,   220,   220,   220,\n",
       "           220,   220,   220,   220,   220,   220,   220,   220,   220,   220,\n",
       "           220,   220,   220,   220,   220,   220,   220,   220,   220,   220,\n",
       "           220,   220,   220,   220,   220,   220,   220,   220,   220,   220,\n",
       "           220,   220,   220,   220,   220,   220,   220,   220,   220,   220,\n",
       "           220,   220,   220,   220,   220,   220,   220,   220,   220,   220,\n",
       "           220,   220,   220,   220,   220,   220,   220,   220,   220,   220,\n",
       "           220,   220,   220,   220,   220,   220,   220,   220,   220,   220,\n",
       "           220,   220,   220,   220,   220,   220,   220,   220,   220,   220,\n",
       "           220,   220,   220,   220,   220,   220,   220,   220,   220,   220,\n",
       "           220,   220,   220,   220,   220,   220,   220,   220,   220,   220,\n",
       "           220,   220,   220,   220,   220,   220,   220,   220,   220,   220,\n",
       "           220,   220,   220,   220,   220,   220,   220,   220,   220,   220,\n",
       "           220,   220,   220,   220,   220,   220,   220,   220,   220,   220,\n",
       "           220,   220,   220,   220,   220,   220,   220,   220,   220,   220,\n",
       "           220,   220,   220,   220,   220,   220,   220,   220,   220,   220,\n",
       "           220,   220,   220,   220,   220,   220,   220,   220,   220,   220,\n",
       "           220,   220,   220,   220,   220,   220,   220,   220,   220,   220,\n",
       "           220,   220,   220,   220,   220,   220,   220,   220,   220,   220,\n",
       "           220,   220,   220,   220,   220,   220,   220,   220,   220,   220,\n",
       "           220,   220,   220,   220,   220,   220,   220,   220,   220,   220,\n",
       "           220,   220,   220,   220,   220,   220,   220,   220,   220,   220,\n",
       "           220,   220,   220,   220,   220,   220,   220,   220,   220,   220,\n",
       "           220,   220,   220,   220,   220,   220,   220,   220,   220,   220,\n",
       "           220,   220,   220,   220,   220,   220,   220,   220,   220,   220,\n",
       "           220,   220,   220,   220,   220,   220,   220,   220,   220,   220,\n",
       "           220,   220,   220,   220,   220,   220,   220,   220,   220,   220,\n",
       "           220,   220,   220,   220,   220,   220,   220,   220,   220,   220,\n",
       "           220,   220,   220,   220,   220,   220,   220,   220,   220,   220,\n",
       "           220,   220,   220,   220,   220,   220,   220,   220,   220,   220,\n",
       "           220,   220,   220,   220,   220,   220,   220,   220,   220,   220,\n",
       "           220,   220,   220,   220,   220,   220,   220,   220,   220,   220,\n",
       "           220,   220,   220,   220,   220,   220,   220,   220,   220,   220,\n",
       "           220,   220,   220,   220,   220,   220,   220,   220,   220,   220,\n",
       "           220,   220,   220,   220,   220,   220,   220,   220,   220,   220,\n",
       "           220,   220,   220,   220,   220,   220,   220,   220,   220,   220,\n",
       "           220,   220,   220,   220,   220,   220,   220,   220,   220,   220,\n",
       "           220,   220,   220,   220,   220,   220,   220,   220,   220,   220,\n",
       "           220,   220,   220,   220,   220,   220,   220,   220,   220,   220,\n",
       "           220,   220,   220,   220,   220,   220,   220,   220,   220,   220,\n",
       "           220,   220,   220,   220,   220,   220,   220,   220,   220,   220,\n",
       "           220,   220,   220,   220,   220,   220,   220,   220,   220,   220,\n",
       "           220,   220,   220,   220,   220,   220,   220,   220,   220,   220,\n",
       "           220,   220,   220,   220,   220,   220,   220,   220,   220,   220,\n",
       "           220,   220,   220,   220,   220,   220,   220,   220,   220,   220,\n",
       "           220,   220,   220,   220,   220,   220,   220,   220,   220,   220,\n",
       "           220,   220,   220,   220,   220,   220,   220,   220,   220,   220,\n",
       "           220,   220,   220,   220,   220,   220,   220,   220,   220,   220,\n",
       "           220,   220,   220,   220,   220,   220,   220,   220,   220,   220,\n",
       "           220,   220,   220,   220,   220,   220,   220,   220,   220,   220,\n",
       "           220,   220,   220,   220,   220,   220,   220,   220,   220,   220,\n",
       "           220,   220,   220,   220,   220,   220,   220,   220,   220,   220,\n",
       "           220,   220,   220,   220,   220,   220,   220,   220,   220,   220,\n",
       "           220,   220,   220,   220,   220,   220,   220,   220,   220,   220,\n",
       "           220,   220,   220,   220,   220,   220,   220,   220,   220,   220,\n",
       "           220,   220,   220,   220,   220,   220,   220,   220,   220,   220,\n",
       "           220,   220,   220,   220,   220,   220,   220,   220,   220,   220,\n",
       "           220,   220,   220,   220,   220,   220,   220,   220,   220,   220,\n",
       "           220,   220,   220,   220,   220,   220,   220,   220,   220,   220,\n",
       "           220,   220,   220,   220,   220,   220,   220,   220,   220,   220,\n",
       "           220,   220,   220,   220,   220,   220,   220,   220,   220,   220,\n",
       "           220,   220,   220,   220,   220,   220,   220,   220,   220,   220,\n",
       "           220,   220,   220,   220,   220,   220,   220,   220,   220,   220,\n",
       "           220,   220,   220,   220,   220,   220,   220,   220,   220,   220,\n",
       "           220,   220,   220,   220,   220,   220,   220,   220,   220,   220,\n",
       "           220,   220,   220,   220,   220,   220,   220,   220,   220,   220,\n",
       "           220,   220,   220,   220,   220,   220,   220,   220,   220,   220,\n",
       "           220,   220,   220,   220,   220,   220,   220,   220,   220,   220,\n",
       "           220,   220,   220,   220,   220,   220,   220,   220,   220,   220,\n",
       "           220,   220,   220,   220,   220,   220,   220,   220,   220,   220,\n",
       "           220,   220,   220,   220,   220,   220,   220,   220,   220,   220,\n",
       "           220,   220,   220,   220,   220,   220,   220,   220,   220,   220,\n",
       "           220,   220,   220,   220,   220,   220,   220,   220,   220,   220,\n",
       "           220,   220,   220,   220,   220,   220,   220,   220,   220,   220,\n",
       "           220,   220,   220,   220,   220,   220,   220,   220,   220,   220,\n",
       "           220,   220,   220,   220,   220,   220,   220,   220,   220,   220,\n",
       "           220,   220,   220,   220,   220,   220,   220,   220,   220,   220,\n",
       "           220,   220,   220,   220,   220,   220,   220,   220,   220,   220,\n",
       "           220,   220,   220,   220,   220,   220,   220,   220,   220,   220,\n",
       "           220,   220,   220,   220,   220,   220,   220,   220,   220,   220]],\n",
       "       device='cuda:0')"
      ]
     },
     "execution_count": 53,
     "metadata": {},
     "output_type": "execute_result"
    }
   ],
   "source": [
    "preds"
   ]
  },
  {
   "cell_type": "code",
   "execution_count": 12,
   "metadata": {},
   "outputs": [
    {
     "data": {
      "text/plain": [
       "tensor([ 198,  220,  220,  ...,   14, 2091,  198])"
      ]
     },
     "execution_count": 12,
     "metadata": {},
     "output_type": "execute_result"
    }
   ],
   "source": [
    "tokenized[0]"
   ]
  },
  {
   "cell_type": "code",
   "execution_count": 14,
   "metadata": {},
   "outputs": [
    {
     "data": {
      "text/html": [
       "<table border=\"1\" class=\"dataframe\">\n",
       "  <thead>\n",
       "    <tr style=\"text-align: right;\">\n",
       "      <th></th>\n",
       "      <th>text</th>\n",
       "      <th>text_</th>\n",
       "    </tr>\n",
       "  </thead>\n",
       "  <tbody>\n",
       "    <tr>\n",
       "      <th>0</th>\n",
       "      <td>\\n\\n\\n\\n        MuddyWater: Binder Project (Part 1)\\n\\n         marcoramilli.com/2021/05/01/muddywater-binder-project-part-1/\\n        View all posts by marcoramilli                               May 1, 2021\\n\\n\\n\\n\\n\\n\\n\\n\\n\\n\\n\\n\\n\\n\\n\\n\\n\\n\\n\\n\\n\\n\\n\\n\\n\\n\\n\\n\\n\\n\\n\\n\\n\\n\\n\\n\\n\\n\\n        According to Lab Dookhtegan, which you migth remeber him/their from HERE, HERE and HERE, Binder is a project\\n        related to IRGC cyber espionage group build for trojenize google apps (APK). The application “trojenization” is a well-\\n        known process which takes as input a good APK and a code to inject (a RAT, for example). The system is able to\\n</td>\n",
       "      <td>\\n\\n        MuddyWater: Binder Project (Part 1)\\n\\n         marcoramilli.com/2021/05/01/muddywater-binder-project-part-1/\\n        View all posts by marcoramilli                               May 1, 2021\\n\\n\\n\\n\\n\\n\\n\\n\\n\\n\\n\\n\\n\\n\\n\\n\\n\\n\\n\\n\\n\\n\\n\\n\\n\\n\\n\\n\\n\\n\\n\\n\\n\\n\\n\\n\\n\\n\\n        According to Lab Dookhtegan, which you migth remeber him/their from HERE, HERE and HERE, Binder is a project\\n        related to IRGC cyber espionage group build for trojenize google apps (APK). The application “trojenization” is a well-\\n        known process which takes as input a good APK and a code to inject (a RAT, for example). The system is able to\\n</td>\n",
       "    </tr>\n",
       "    <tr>\n",
       "      <th>1</th>\n",
       "      <td>– Service\\n                                                               Execution\\n           Regedit   regedit     shell regedit reg             T102</td>\n",
       "      <td>– Service\\n                                                               Execution\\n           Regedit   regedit     shell regedit reg             T102 –</td>\n",
       "    </tr>\n",
       "  </tbody>\n",
       "</table>"
      ],
      "text/plain": [
       "<IPython.core.display.HTML object>"
      ]
     },
     "metadata": {},
     "output_type": "display_data"
    }
   ],
   "source": [
    "dls.show_batch(max_n=2)"
   ]
  },
  {
   "cell_type": "markdown",
   "metadata": {},
   "source": [
    "Even trying the GPT2 tutorial data only gets us two more words, instead of the normal several. I wonder if the massive number of `\\n`'s is confusing it, and leading it to predict only spaces and newlines. Will re-parse at reading, but if that's true, will want a clean dataset for later. \n",
    "\n",
    "I've also read a comment where adding spaces or other whitespace characters at the end of your prompt causes problems. Keep that in mind for later."
   ]
  },
  {
   "cell_type": "code",
   "execution_count": 37,
   "metadata": {},
   "outputs": [],
   "source": [
    "# read the data like before, but replace paired \\n's with a single space. \n",
    "values = list()\n",
    "for entry in os.listdir(base_dir):\n",
    "    if entry.endswith(\".txt\"):\n",
    "        with open(os.path.join(base_dir, entry)) as infile:\n",
    "            data = infile.read()\n",
    "            data.replace(\"\\n\\n\", \" \")\n",
    "            values.append(data)\n",
    "df = pd.DataFrame(data=values, columns=[\"text\"])"
   ]
  },
  {
   "cell_type": "code",
   "execution_count": 38,
   "metadata": {},
   "outputs": [],
   "source": [
    "train, valid = train_test_split(df, test_size=0.1, random_state=42)\n",
    "all_texts = np.concatenate([train['text'].values, valid['text'].values])\n",
    "splits = [range_of(train), list(range(len(train), len(all_texts)))]"
   ]
  },
  {
   "cell_type": "code",
   "execution_count": 39,
   "metadata": {},
   "outputs": [
    {
     "data": {
      "text/html": [
       "\n",
       "    <div>\n",
       "        <style>\n",
       "            /* Turns off some styling */\n",
       "            progress {\n",
       "                /* gets rid of default border in Firefox and Opera. */\n",
       "                border: none;\n",
       "                /* Needs to be in here for Safari polyfill so background images work as expected. */\n",
       "                background-size: auto;\n",
       "            }\n",
       "            .progress-bar-interrupted, .progress-bar-interrupted::-webkit-progress-bar {\n",
       "                background: #F44336;\n",
       "            }\n",
       "        </style>\n",
       "      <progress value='1454' class='' max='1454' style='width:300px; height:20px; vertical-align: middle;'></progress>\n",
       "      100.00% [1454/1454 01:30<00:00]\n",
       "    </div>\n",
       "    "
      ],
      "text/plain": [
       "<IPython.core.display.HTML object>"
      ]
     },
     "metadata": {},
     "output_type": "display_data"
    }
   ],
   "source": [
    "def tokenize(text):\n",
    "    toks = tokenizer.tokenize(text)\n",
    "    return tensor(tokenizer.convert_tokens_to_ids(toks))\n",
    "\n",
    "tokenized = [tokenize(t) for t in progress_bar(all_texts)]"
   ]
  },
  {
   "cell_type": "code",
   "execution_count": 40,
   "metadata": {},
   "outputs": [],
   "source": [
    "tls = TfmdLists(tokenized, TransformersTokenizer(tokenizer), splits=splits, dl_type=LMDataLoader)\n",
    "dls = tls.dataloaders(bs=bs, seq_len=sl)"
   ]
  },
  {
   "cell_type": "code",
   "execution_count": 41,
   "metadata": {},
   "outputs": [],
   "source": [
    "learn = Learner(dls, model, loss_func=CrossEntropyLossFlat(), cbs=[DropOutput], metrics=Perplexity()).to_fp16()"
   ]
  },
  {
   "cell_type": "code",
   "execution_count": 42,
   "metadata": {},
   "outputs": [
    {
     "data": {
      "text/html": [
       "<table border=\"1\" class=\"dataframe\">\n",
       "  <thead>\n",
       "    <tr style=\"text-align: left;\">\n",
       "      <th>epoch</th>\n",
       "      <th>train_loss</th>\n",
       "      <th>valid_loss</th>\n",
       "      <th>perplexity</th>\n",
       "      <th>time</th>\n",
       "    </tr>\n",
       "  </thead>\n",
       "  <tbody>\n",
       "    <tr>\n",
       "      <td>0</td>\n",
       "      <td>1.767524</td>\n",
       "      <td>1.861074</td>\n",
       "      <td>6.430640</td>\n",
       "      <td>1:09:41</td>\n",
       "    </tr>\n",
       "  </tbody>\n",
       "</table>"
      ],
      "text/plain": [
       "<IPython.core.display.HTML object>"
      ]
     },
     "metadata": {},
     "output_type": "display_data"
    }
   ],
   "source": [
    "learn.fit_one_cycle(1, 1e-4)"
   ]
  },
  {
   "cell_type": "code",
   "execution_count": 43,
   "metadata": {},
   "outputs": [
    {
     "data": {
      "text/plain": [
       "torch.Size([1, 5])"
      ]
     },
     "execution_count": 43,
     "metadata": {},
     "output_type": "execute_result"
    }
   ],
   "source": [
    "prompt = \"\\n checkerboard spider\"\n",
    "prompt_ids = tokenizer.encode(prompt)\n",
    "inp = tensor(prompt_ids)[None].cuda()\n",
    "inp.shape"
   ]
  },
  {
   "cell_type": "code",
   "execution_count": 44,
   "metadata": {},
   "outputs": [
    {
     "name": "stderr",
     "output_type": "stream",
     "text": [
      "Setting `pad_token_id` to `eos_token_id`:50256 for open-end generation.\n"
     ]
    }
   ],
   "source": [
    "preds = learn.model.generate(inp, max_length=100, num_beams=5, temperature=1.5)"
   ]
  },
  {
   "cell_type": "code",
   "execution_count": 45,
   "metadata": {},
   "outputs": [
    {
     "data": {
      "text/plain": [
       "'\\n checkerboard spider\\n                                                                                              '"
      ]
     },
     "execution_count": 45,
     "metadata": {},
     "output_type": "execute_result"
    }
   ],
   "source": [
    "tokenizer.decode(preds[0].cpu().numpy())"
   ]
  },
  {
   "cell_type": "markdown",
   "metadata": {},
   "source": [
    "This learned lots of spaces. Huh. So perhaps replacing the \\n's with spaces just trained it to learn lots of spaces. Try again, but this time, replace any 2+ whitespace section."
   ]
  },
  {
   "cell_type": "code",
   "execution_count": 4,
   "metadata": {},
   "outputs": [],
   "source": [
    "# read the data like before, but replace 2+ whitespaces with  nothing\n",
    "reg_space = re.compile(r'\\s{2,}')\n",
    "values = list()\n",
    "for entry in os.listdir(base_dir):\n",
    "    if entry.endswith(\".txt\"):\n",
    "        with open(os.path.join(base_dir, entry)) as infile:\n",
    "            data = infile.read()\n",
    "            data = re.sub(reg_space, \" \",data)\n",
    "            values.append(data)\n",
    "df = pd.DataFrame(data=values, columns=[\"text\"])"
   ]
  },
  {
   "cell_type": "code",
   "execution_count": 5,
   "metadata": {},
   "outputs": [],
   "source": [
    "train, valid = train_test_split(df, test_size=0.1, random_state=42)\n",
    "all_texts = np.concatenate([train['text'].values, valid['text'].values])\n",
    "splits = [range_of(train), list(range(len(train), len(all_texts)))]"
   ]
  },
  {
   "cell_type": "code",
   "execution_count": 10,
   "metadata": {},
   "outputs": [
    {
     "data": {
      "text/html": [
       "\n",
       "    <div>\n",
       "        <style>\n",
       "            /* Turns off some styling */\n",
       "            progress {\n",
       "                /* gets rid of default border in Firefox and Opera. */\n",
       "                border: none;\n",
       "                /* Needs to be in here for Safari polyfill so background images work as expected. */\n",
       "                background-size: auto;\n",
       "            }\n",
       "            .progress-bar-interrupted, .progress-bar-interrupted::-webkit-progress-bar {\n",
       "                background: #F44336;\n",
       "            }\n",
       "        </style>\n",
       "      <progress value='1454' class='' max='1454' style='width:300px; height:20px; vertical-align: middle;'></progress>\n",
       "      100.00% [1454/1454 00:53<00:00]\n",
       "    </div>\n",
       "    "
      ],
      "text/plain": [
       "<IPython.core.display.HTML object>"
      ]
     },
     "metadata": {},
     "output_type": "display_data"
    }
   ],
   "source": [
    "def tokenize(text):\n",
    "    toks = tokenizer.tokenize(text)\n",
    "    return tensor(tokenizer.convert_tokens_to_ids(toks))\n",
    "\n",
    "tokenized = [tokenize(t) for t in progress_bar(all_texts)]"
   ]
  },
  {
   "cell_type": "code",
   "execution_count": 13,
   "metadata": {},
   "outputs": [],
   "source": [
    "tls = TfmdLists(tokenized, TransformersTokenizer(tokenizer), splits=splits, dl_type=LMDataLoader)\n",
    "dls = tls.dataloaders(bs=bs, seq_len=sl)"
   ]
  },
  {
   "cell_type": "code",
   "execution_count": 14,
   "metadata": {},
   "outputs": [
    {
     "data": {
      "text/html": [
       "<table border=\"1\" class=\"dataframe\">\n",
       "  <thead>\n",
       "    <tr style=\"text-align: right;\">\n",
       "      <th></th>\n",
       "      <th>text</th>\n",
       "      <th>text_</th>\n",
       "    </tr>\n",
       "  </thead>\n",
       "  <tbody>\n",
       "    <tr>\n",
       "      <th>0</th>\n",
       "      <td>Cybereason vs. MedusaLocker Ransomware cybereason.com/blog/medusalocker-ransomware Back to Blog Cybereason Nocturnus Nov 19, 2020 Research by: Tom Fakterman and Assaf Dahan Background The MedusaLocker ransomware first emerged in September 2019, infecting and encrypting Windows machines around the world. There have been reports of MedusaLocker attacks across multiple industries, especially the healthcare industry which suffered a great deal of ransomware attacks during the COVID-19 pandemic. In order to maximize the chances of successful encryption of the files on the compromised machine, MedusaLocker restarts the machine in safe mode before execution. This method is used to avoid security tools that might not run when the computer starts in safe mode. MedusaLocker avoids encrypting executable files, most likely to avoid rendering the targeted system unusable for paying the ransom. To make it even more dangerous, MedusaLocker uses a combination of AES and RSA-2048, making the procedure of brute forcing the encryption practically impossible.</td>\n",
       "      <td>bereason vs. MedusaLocker Ransomware cybereason.com/blog/medusalocker-ransomware Back to Blog Cybereason Nocturnus Nov 19, 2020 Research by: Tom Fakterman and Assaf Dahan Background The MedusaLocker ransomware first emerged in September 2019, infecting and encrypting Windows machines around the world. There have been reports of MedusaLocker attacks across multiple industries, especially the healthcare industry which suffered a great deal of ransomware attacks during the COVID-19 pandemic. In order to maximize the chances of successful encryption of the files on the compromised machine, MedusaLocker restarts the machine in safe mode before execution. This method is used to avoid security tools that might not run when the computer starts in safe mode. MedusaLocker avoids encrypting executable files, most likely to avoid rendering the targeted system unusable for paying the ransom. To make it even more dangerous, MedusaLocker uses a combination of AES and RSA-2048, making the procedure of brute forcing the encryption practically impossible. Recently,</td>\n",
       "    </tr>\n",
       "    <tr>\n",
       "      <th>1</th>\n",
       "      <td>T attack and how they respond to an APT? Most organisations focus on Our analysis shows that a majority of the procedures of preventing an external attacker from threat actors can be detected by monitoring process getting access to internal resources, and file operations. These detection methods are the but few take measures to detect most effective ones, to detect the attack patterns used an attacker once he/she has access within targeted attacks. This, too, tallies with what to the internal network. Costin Raiu said. The following illustration of the top ten detection methods underlines this once again: Process Monitoring 149 File monitoring 86 Process command-line parameters 82 API monitoring 36 Process use of network 34 Windows Registry 34 Packet capture 31 Authentication logs 28 Netﬂow/Enclave netﬂow 23 Binary ﬁle metadata 17 0 20 40 60 80 100 120 140 160 kcattA eht gnitcudnoC Detection methods for process activities identify</td>\n",
       "      <td>attack and how they respond to an APT? Most organisations focus on Our analysis shows that a majority of the procedures of preventing an external attacker from threat actors can be detected by monitoring process getting access to internal resources, and file operations. These detection methods are the but few take measures to detect most effective ones, to detect the attack patterns used an attacker once he/she has access within targeted attacks. This, too, tallies with what to the internal network. Costin Raiu said. The following illustration of the top ten detection methods underlines this once again: Process Monitoring 149 File monitoring 86 Process command-line parameters 82 API monitoring 36 Process use of network 34 Windows Registry 34 Packet capture 31 Authentication logs 28 Netﬂow/Enclave netﬂow 23 Binary ﬁle metadata 17 0 20 40 60 80 100 120 140 160 kcattA eht gnitcudnoC Detection methods for process activities identify</td>\n",
       "    </tr>\n",
       "  </tbody>\n",
       "</table>"
      ],
      "text/plain": [
       "<IPython.core.display.HTML object>"
      ]
     },
     "metadata": {},
     "output_type": "display_data"
    }
   ],
   "source": [
    "dls.show_batch(max_n=2)"
   ]
  },
  {
   "cell_type": "code",
   "execution_count": 15,
   "metadata": {},
   "outputs": [],
   "source": [
    "learn = Learner(dls, model, loss_func=CrossEntropyLossFlat(), cbs=[DropOutput], metrics=Perplexity()).to_fp16()"
   ]
  },
  {
   "cell_type": "code",
   "execution_count": 16,
   "metadata": {},
   "outputs": [
    {
     "data": {
      "text/html": [
       "<table border=\"1\" class=\"dataframe\">\n",
       "  <thead>\n",
       "    <tr style=\"text-align: left;\">\n",
       "      <th>epoch</th>\n",
       "      <th>train_loss</th>\n",
       "      <th>valid_loss</th>\n",
       "      <th>perplexity</th>\n",
       "      <th>time</th>\n",
       "    </tr>\n",
       "  </thead>\n",
       "  <tbody>\n",
       "    <tr>\n",
       "      <td>0</td>\n",
       "      <td>3.599804</td>\n",
       "      <td>3.285584</td>\n",
       "      <td>26.724592</td>\n",
       "      <td>31:48</td>\n",
       "    </tr>\n",
       "  </tbody>\n",
       "</table>"
      ],
      "text/plain": [
       "<IPython.core.display.HTML object>"
      ]
     },
     "metadata": {},
     "output_type": "display_data"
    }
   ],
   "source": [
    "learn.fit_one_cycle(1, 1e-4)"
   ]
  },
  {
   "cell_type": "markdown",
   "metadata": {},
   "source": [
    "Interesting to note that this took approximately half the time to train that the full-witespace one did. There was apparently a *lot* of whitespace in the raw files."
   ]
  },
  {
   "cell_type": "code",
   "execution_count": 18,
   "metadata": {},
   "outputs": [
    {
     "name": "stderr",
     "output_type": "stream",
     "text": [
      "Setting `pad_token_id` to `eos_token_id`:50256 for open-end generation.\n"
     ]
    },
    {
     "data": {
      "text/plain": [
       "'\\n checkerboard spider.com/wp-content/uploads/2018/10/checkerboard- spider.com/wp-content/uploads/2018/10/checkerboard- spider.com/wp-content/uploads/2018/10/checkerboard- spider.com/wp-content/uploads/2018/10/checkerboard- spider.com/wp-content/uploads/2018/10/checkerboard- spider.com/wp-content/uploads/2018/10/checkerboard- spider.com/wp-content/uploads/2018/10/checkerboard- spider.com/wp-content/uploads/2018/10/checkerboard- spider.com/wp-content/uploads/2018/10/checkerboard- spider.com/wp-content/uploads/2018/10/checkerboard- spider.com/wp-content/uploads/2018/10/checkerboard- spider.com/wp-content/uploads/2018/10/checkerboard- spider.com/wp-content/uploads/2018/10/checkerboard- spider.com/wp-content/uploads/2018/10/checkerboard- spider.com/wp-content/uploads/2018/10/checkerboard- spider.com/wp-content/uploads/2018/10/checkerboard- spider.com/wp-content/uploads/2018/10/checkerboard- spider.com/wp-content/uploads/2018/10/checkerboard- spider.com/wp-content/uploads/2018/10/checkerboard- spider.com/wp-content/uploads/2018/10/checkerboard- spider.com/wp-content/uploads/2018/10/checkerboard- spider.com/wp-content/uploads/2018/10/checkerboard- spider.com/wp-content/uploads/2018/10/checkerboard- spider.com/wp-content/uploads/2018/10/checkerboard- spider.com/wp-content/uploads/2018/10/checkerboard- spider.com/wp-content/uploads/2018/10/checkerboard- spider.com/wp-content/uploads/2018/10/checkerboard- spider.com/wp-content/uploads/2018/10/checkerboard- spider.com/wp-content/uploads/2018/10/checkerboard- spider.com/wp-content/uploads/2018/10/checkerboard- spider.com/wp-content/uploads/2018/10/checkerboard- spider.com/wp-content/uploads/2018/10/checkerboard- spider.com/wp-content/uploads/2018/10/checkerboard- spider.com/wp-content/uploads/2018/10/checkerboard- spider.com/wp-content/uploads/2018/10/checkerboard- spider.com/wp-content/uploads/2018/10/checkerboard- spider.com/wp-content/uploads/2018/10/checkerboard- spider.com/wp-content/uploads/2018/10/checkerboard- spider.com/wp-content/uploads/2018/10/checkerboard- spider.com/wp-content/uploads/2018/10/checkerboard- spider.com/wp-content/uploads/2018/10/checkerboard- spider.com/wp-content/uploads/2018/10/checkerboard- spider.com/wp-content/uploads/2018/10/checkerboard- spider.com/wp-content/uploads/2018/10/checkerboard- spider.com/wp-content/uploads/2018/10/checkerboard- spider.com/wp-content/uploads/2018/10/checkerboard- spider.com/wp-content/uploads/2018/10/checkerboard- spider.com/wp-content/uploads/2018/10/checkerboard- spider.com/wp-content/uploads/2018/10/checkerboard- spider.com/wp-content/uploads/2018/10/checkerboard- spider.com/wp-content/uploads/2018/10/checkerboard- spider.com/wp-content/uploads/2018/10/checkerboard- spider.com/wp-content/uploads/2018/10/checkerboard- spider.com/wp-content/uploads/2018/10/checkerboard- spider.com/wp-content/uploads/2018/10/checkerboard- spider.com/wp-'"
      ]
     },
     "execution_count": 18,
     "metadata": {},
     "output_type": "execute_result"
    }
   ],
   "source": [
    "prompt = \"\\n checkerboard spider\"\n",
    "prompt_ids = tokenizer.encode(prompt)\n",
    "inp = tensor(prompt_ids)[None].cuda()\n",
    "preds = learn.model.generate(inp, max_length=1000, num_beams=5, temperature=1.5)\n",
    "tokenizer.decode(preds[0].cpu().numpy())"
   ]
  },
  {
   "cell_type": "markdown",
   "metadata": {},
   "source": [
    "ummm....okaaaay. It learned that it was supposed to put the actor name in a wordpress blog url (hah), but nothing else. sigh. 'k. Perhaps we need to remove the blog urls also. "
   ]
  },
  {
   "cell_type": "code",
   "execution_count": 23,
   "metadata": {},
   "outputs": [
    {
     "data": {
      "text/plain": [
       "0     Operation Overtrap Targets Japanese Online Banking Users Via Bottle Exploit Kit and Brand-New Cinobi Banking Trojan Technical Brief By Jaromir Horejsi and Joseph C. Chen (Threat Researchers) We recently discovered a new campaign that we dubbed “Operation Overtrap” for the numerous ways it can infect or trap victims with its payload. The campaign mainly targets online users of various Japanese banks by stealing their banking credentials using a three-pronged attack. Based on our telemetry, Operation Overtrap has been active since April 2019 and has been solely targeting online banking user...\n",
       "1     Trend Micro About TrendLabs Security Intelligence Blog Search: Home Categories Home » Bad Sites » New Andariel Reconnaissance Tactics Hint At Next Targets Featured Stories New Andariel Reconnaissance Tactics Hint At Next Targets systemd Vulnerability Leads to Denial of Service on Linux Posted on: July 16, 2018 at 8:10 am Posted in: Bad Sites Author: Joseph C Chen (Fraud Researcher) qkG Filecoder: Self-Replicating, Document- In cooperation with IssueMakersLab of South Korea Encrypting Ransomware Reconnaissance plays a vital role in criminal operations, and Mitigating CVE-2017-5689, an Inte...\n",
       "2     9/10/2018 Leviathan: Espionage actor spearphishes maritime and defense targets Leviathan: Espionage actor spearphishes maritime and defense targets proofpoint.com/us/threat‑insight/post/leviathan‑espionage‑actor‑spearphishes‑maritime‑and‑defense‑targets October 17, 2017 Overview Proofpoint researchers are tracking an espionage actor targeting organizations and high‑value targets in defense and government. Active since at least 2014, this actor has long‑standing interest in maritime industries, naval defense contractors, and associated research institutions in the United States and Western...\n",
       "Name: text, dtype: object"
      ]
     },
     "execution_count": 23,
     "metadata": {},
     "output_type": "execute_result"
    }
   ],
   "source": [
    "df['text'].head(3)"
   ]
  },
  {
   "cell_type": "markdown",
   "metadata": {},
   "source": [
    "### removing more stuff\n",
    "\n",
    "Okay, I re-ran the Prefect data generation job, this time having it do the following:\n",
    " 1. remove code snippets like before.\n",
    " 2. replace all white-space-like characters with a single space (so \"\\n\\n\\n\\t\\n  \" would change to \" \")\n",
    " 3. replace all urls and word-press-like strings with \" \"\n",
    " \n",
    "My hope is that this removes the things that the previous runs were grabbing as common factors, and teaches it legitimate TI jargon & style."
   ]
  },
  {
   "cell_type": "code",
   "execution_count": 4,
   "metadata": {},
   "outputs": [],
   "source": [
    "# let's start from the top\n",
    "base_dir = Path(\"/home/g-clef/local_ml_data_copy/ti-reports/671bc9ae-0e33-45a6-bb56-c13457c5a510\")\n",
    "values = list()\n",
    "for entry in os.listdir(base_dir):\n",
    "    if entry.endswith(\".txt\"):\n",
    "        with open(os.path.join(base_dir, entry)) as infile:\n",
    "            values.append(infile.read())\n",
    "df = pd.DataFrame(data=values, columns=[\"text\"])\n",
    "train, valid = train_test_split(df, test_size=0.1, random_state=42)\n",
    "all_texts = np.concatenate([train['text'].values, valid['text'].values])\n",
    "splits = [range_of(train), list(range(len(train), len(all_texts)))]\n",
    "bs,sl = 4,256"
   ]
  },
  {
   "cell_type": "code",
   "execution_count": 5,
   "metadata": {},
   "outputs": [],
   "source": [
    "class DropOutput(Callback):\n",
    "    def after_pred(self): self.learn.pred = self.pred[0]"
   ]
  },
  {
   "cell_type": "code",
   "execution_count": 6,
   "metadata": {},
   "outputs": [
    {
     "data": {
      "text/html": [
       "\n",
       "    <div>\n",
       "        <style>\n",
       "            /* Turns off some styling */\n",
       "            progress {\n",
       "                /* gets rid of default border in Firefox and Opera. */\n",
       "                border: none;\n",
       "                /* Needs to be in here for Safari polyfill so background images work as expected. */\n",
       "                background-size: auto;\n",
       "            }\n",
       "            .progress-bar-interrupted, .progress-bar-interrupted::-webkit-progress-bar {\n",
       "                background: #F44336;\n",
       "            }\n",
       "        </style>\n",
       "      <progress value='1462' class='' max='1462' style='width:300px; height:20px; vertical-align: middle;'></progress>\n",
       "      100.00% [1462/1462 00:18<00:00]\n",
       "    </div>\n",
       "    "
      ],
      "text/plain": [
       "<IPython.core.display.HTML object>"
      ]
     },
     "metadata": {},
     "output_type": "display_data"
    },
    {
     "name": "stderr",
     "output_type": "stream",
     "text": [
      "Token indices sequence length is longer than the specified maximum sequence length for this model (6081 > 1024). Running this sequence through the model will result in indexing errors\n"
     ]
    }
   ],
   "source": [
    "def tokenize(text):\n",
    "    toks = tokenizer.tokenize(text)\n",
    "    return tensor(tokenizer.convert_tokens_to_ids(toks))\n",
    "\n",
    "tokenized = [tokenize(t) for t in progress_bar(all_texts)]"
   ]
  },
  {
   "cell_type": "code",
   "execution_count": 7,
   "metadata": {},
   "outputs": [],
   "source": [
    "class TransformersTokenizer(Transform):\n",
    "    def __init__(self, tokenizer): self.tokenizer = tokenizer\n",
    "    def encodes(self, x): \n",
    "        return x if isinstance(x, Tensor) else tokenize(x)\n",
    "        \n",
    "    def decodes(self, x): return TitledStr(self.tokenizer.decode(x.cpu().numpy()))"
   ]
  },
  {
   "cell_type": "code",
   "execution_count": 8,
   "metadata": {},
   "outputs": [],
   "source": [
    "tls = TfmdLists(tokenized, TransformersTokenizer(tokenizer), splits=splits, dl_type=LMDataLoader)\n",
    "dls = tls.dataloaders(bs=bs, seq_len=sl)"
   ]
  },
  {
   "cell_type": "code",
   "execution_count": 9,
   "metadata": {},
   "outputs": [],
   "source": [
    "learn = Learner(dls, model, loss_func=CrossEntropyLossFlat(), cbs=[DropOutput], metrics=Perplexity()).to_fp16()"
   ]
  },
  {
   "cell_type": "code",
   "execution_count": 10,
   "metadata": {},
   "outputs": [
    {
     "data": {
      "text/html": [
       "<table border=\"1\" class=\"dataframe\">\n",
       "  <thead>\n",
       "    <tr style=\"text-align: left;\">\n",
       "      <th>epoch</th>\n",
       "      <th>train_loss</th>\n",
       "      <th>valid_loss</th>\n",
       "      <th>perplexity</th>\n",
       "      <th>time</th>\n",
       "    </tr>\n",
       "  </thead>\n",
       "  <tbody>\n",
       "    <tr>\n",
       "      <td>0</td>\n",
       "      <td>3.575670</td>\n",
       "      <td>3.614600</td>\n",
       "      <td>37.136478</td>\n",
       "      <td>11:16</td>\n",
       "    </tr>\n",
       "  </tbody>\n",
       "</table>"
      ],
      "text/plain": [
       "<IPython.core.display.HTML object>"
      ]
     },
     "metadata": {},
     "output_type": "display_data"
    }
   ],
   "source": [
    "learn.fit_one_cycle(1, 1e-4)"
   ]
  },
  {
   "cell_type": "markdown",
   "metadata": {},
   "source": [
    "(Side-note: this trained even faster than the earlier ones (11 minutes), which implies that it was having problems with the URLs as well in previous training runs)"
   ]
  },
  {
   "cell_type": "code",
   "execution_count": 11,
   "metadata": {},
   "outputs": [
    {
     "name": "stderr",
     "output_type": "stream",
     "text": [
      "Setting `pad_token_id` to `eos_token_id`:50256 for open-end generation.\n"
     ]
    },
    {
     "data": {
      "text/plain": [
       "'\\n checkerboard spider.com/blog/2018/05/checkerboard-sophisticated-sophisticated-sophisticated-sophisticated-sophisticated-sophisticated-sophisticated-sophisticated-sophisticated-sophisticated-sophisticated-sophisticated-sophisticated-sophisticated-sophisticated-sophisticated-sophisticated-sophisticated-sophisticated-sophisticated-sophisticated-sophisticated-sophisticated-sophisticated-sophisticated-sophisticated-sophisticated-sophisticated-sophisticated-sophisticated-sophisticated-sophisticated-sophisticated-sophisticated-sophisticated-sophisticated-sophisticated-sophisticated-sophisticated-sophisticated-sophisticated-sophisticated-sophisticated-sophisticated-sophisticated-sophisticated-sophisticated-sophisticated-sophisticated-sophisticated-sophisticated-sophisticated-sophisticated-sophisticated-sophisticated-sophisticated-sophisticated-sophisticated-sophisticated-sophisticated-sophisticated-sophisticated-sophisticated-sophisticated-sophisticated-sophisticated-sophisticated-sophisticated-sophisticated-sophisticated-sophisticated-sophisticated-sophisticated-sophisticated-sophisticated-sophisticated-sophisticated-sophisticated-sophisticated-sophisticated-sophisticated-sophisticated-sophisticated-sophisticated-sophisticated-sophisticated-sophisticated-sophisticated-sophisticated-sophisticated-sophisticated-sophisticated-sophisticated-sophisticated-sophisticated-sophisticated-sophisticated-sophisticated-sophisticated-sophisticated-sophisticated-sophisticated-sophisticated-sophisticated-sophisticated-sophisticated-sophisticated-sophisticated-sophisticated-sophisticated-sophisticated-sophisticated-sophisticated-sophisticated-sophisticated-sophisticated-sophisticated-sophisticated-sophisticated-sophisticated-sophisticated-sophisticated-sophisticated-sophisticated-sophisticated-sophisticated-sophisticated-sophisticated-sophisticated-sophisticated-sophisticated-sophisticated-sophisticated-sophisticated-sophisticated-sophisticated-sophisticated-sophisticated-sophisticated-sophisticated-sophisticated-sophisticated-sophisticated-sophisticated-sophisticated-sophisticated-sophisticated-sophisticated-sophisticated-sophisticated-sophisticated-sophisticated-sophisticated-sophisticated-sophisticated-sophisticated-sophisticated-sophisticated-sophisticated-sophisticated-sophisticated-sophisticated-sophisticated-sophisticated-sophisticated-sophisticated-sophisticated-sophisticated-sophisticated-sophisticated-sophisticated-sophisticated-sophisticated-sophisticated-sophisticated-sophisticated-sophisticated-sophisticated-sophisticated-sophisticated-sophisticated-sophisticated-sophisticated-sophisticated-sophisticated-sophisticated-sophisticated-sophisticated-sophisticated-sophisticated-sophisticated-sophisticated-sophisticated-sophisticated-sophisticated-sophisticated-soph'"
      ]
     },
     "execution_count": 11,
     "metadata": {},
     "output_type": "execute_result"
    }
   ],
   "source": [
    "prompt = \"\\n checkerboard spider\"\n",
    "prompt_ids = tokenizer.encode(prompt)\n",
    "inp = tensor(prompt_ids)[None].cuda()\n",
    "preds = learn.model.generate(inp, max_length=1000, num_beams=5, temperature=1.5)\n",
    "tokenizer.decode(preds[0].cpu().numpy())"
   ]
  },
  {
   "cell_type": "markdown",
   "metadata": {},
   "source": [
    "Okay, that's a bit on the nose. \n",
    "\n",
    "I don't like that it's still looking like a URL, but the fact that all it's saying is \"sophisticated\" is fucking hilarious.\n",
    "\n",
    "Does it do that every time?"
   ]
  },
  {
   "cell_type": "code",
   "execution_count": 12,
   "metadata": {},
   "outputs": [
    {
     "name": "stderr",
     "output_type": "stream",
     "text": [
      "Setting `pad_token_id` to `eos_token_id`:50256 for open-end generation.\n"
     ]
    },
    {
     "data": {
      "text/plain": [
       "'\\n checkerboard spider.com/blog/2018/05/checkerboard-sophisticated-sophisticated-sophisticated-sophisticated-sophisticated-sophisticated-sophisticated-sophisticated-sophisticated-sophisticated-sophisticated-sophisticated-sophisticated-sophisticated-sophisticated-sophisticated-sophisticated-sophisticated-sophisticated-sophisticated-sophisticated-sophisticated-sophisticated-sophisticated-sophisticated-sophisticated-sophisticated-sophisticated-sophisticated-sophisticated-sophisticated-sophisticated-sophisticated-sophisticated-sophisticated-sophisticated-sophisticated-sophisticated-sophisticated-sophisticated-sophisticated-sophisticated-sophisticated-sophisticated-sophisticated-sophisticated-sophisticated-sophisticated-sophisticated-sophisticated-sophisticated-sophisticated-sophisticated-sophisticated-sophisticated-sophisticated-sophisticated-sophisticated-sophisticated-sophisticated-sophisticated-sophisticated-sophisticated-sophisticated-sophisticated-sophisticated-sophisticated-sophisticated-sophisticated-sophisticated-sophisticated-sophisticated-sophisticated-sophisticated-sophisticated-sophisticated-sophisticated-sophisticated-sophisticated-sophisticated-sophisticated-sophisticated-sophisticated-sophisticated-sophisticated-sophisticated-sophisticated-sophisticated-sophisticated-sophisticated-sophisticated-sophisticated-sophisticated-sophisticated-sophisticated-sophisticated-sophisticated-sophisticated-sophisticated-sophisticated-sophisticated-sophisticated-sophisticated-sophisticated-sophisticated-sophisticated-sophisticated-sophisticated-sophisticated-sophisticated-sophisticated-sophisticated-sophisticated-sophisticated-sophisticated-sophisticated-sophisticated-sophisticated-sophisticated-sophisticated-sophisticated-sophisticated-sophisticated-sophisticated-sophisticated-sophisticated-sophisticated-sophisticated-sophisticated-sophisticated-sophisticated-sophisticated-sophisticated-sophisticated-sophisticated-sophisticated-sophisticated-sophisticated-sophisticated-sophisticated-sophisticated-sophisticated-sophisticated-sophisticated-sophisticated-sophisticated-sophisticated-sophisticated-sophisticated-sophisticated-sophisticated-sophisticated-sophisticated-sophisticated-sophisticated-sophisticated-sophisticated-sophisticated-sophisticated-sophisticated-sophisticated-sophisticated-sophisticated-sophisticated-sophisticated-sophisticated-sophisticated-sophisticated-sophisticated-sophisticated-sophisticated-sophisticated-sophisticated-sophisticated-sophisticated-sophisticated-sophisticated-sophisticated-sophisticated-sophisticated-sophisticated-sophisticated-sophisticated-sophisticated-sophisticated-sophisticated-sophisticated-sophisticated-sophisticated-sophisticated-sophisticated-sophisticated-sophisticated-sophisticated-sophisticated-sophisticated-soph'"
      ]
     },
     "execution_count": 12,
     "metadata": {},
     "output_type": "execute_result"
    }
   ],
   "source": [
    "prompt = \"\\n checkerboard spider\"\n",
    "prompt_ids = tokenizer.encode(prompt)\n",
    "inp = tensor(prompt_ids)[None].cuda()\n",
    "preds = learn.model.generate(inp, max_length=1000, num_beams=5, temperature=1.5)\n",
    "tokenizer.decode(preds[0].cpu().numpy())"
   ]
  },
  {
   "cell_type": "markdown",
   "metadata": {},
   "source": [
    "yup. Okay, that's really funny. \n",
    "\n",
    "I apparently missed some URLs. Let's try one last prefect run to remove even more URL-like things (I didn't chop out urls that were missing the `http` at the beginning. Apparently that was a mistake)"
   ]
  },
  {
   "cell_type": "markdown",
   "metadata": {},
   "source": [
    "So, have run re-run the prefect job, removing all things that look even vaguely like URLs. Those are in the run labeled `d7b917db-7989-468c-87e2-dc0c63b90e2c`. So let's re-do the above with that dataset."
   ]
  },
  {
   "cell_type": "code",
   "execution_count": 3,
   "metadata": {},
   "outputs": [],
   "source": [
    "# let's start from the top\n",
    "base_dir = Path(\"/home/g-clef/local_ml_data_copy/ti-reports/d7b917db-7989-468c-87e2-dc0c63b90e2c\")\n",
    "values = list()\n",
    "for entry in os.listdir(base_dir):\n",
    "    if entry.endswith(\".txt\"):\n",
    "        with open(os.path.join(base_dir, entry)) as infile:\n",
    "            values.append(infile.read())\n",
    "df = pd.DataFrame(data=values, columns=[\"text\"])\n",
    "train, valid = train_test_split(df, test_size=0.1, random_state=42)\n",
    "all_texts = np.concatenate([train['text'].values, valid['text'].values])\n",
    "splits = [range_of(train), list(range(len(train), len(all_texts)))]\n",
    "bs,sl = 4,256"
   ]
  },
  {
   "cell_type": "code",
   "execution_count": 4,
   "metadata": {},
   "outputs": [
    {
     "data": {
      "text/html": [
       "\n",
       "    <div>\n",
       "        <style>\n",
       "            /* Turns off some styling */\n",
       "            progress {\n",
       "                /* gets rid of default border in Firefox and Opera. */\n",
       "                border: none;\n",
       "                /* Needs to be in here for Safari polyfill so background images work as expected. */\n",
       "                background-size: auto;\n",
       "            }\n",
       "            .progress-bar-interrupted, .progress-bar-interrupted::-webkit-progress-bar {\n",
       "                background: #F44336;\n",
       "            }\n",
       "        </style>\n",
       "      <progress value='1463' class='' max='1463' style='width:300px; height:20px; vertical-align: middle;'></progress>\n",
       "      100.00% [1463/1463 00:15<00:00]\n",
       "    </div>\n",
       "    "
      ],
      "text/plain": [
       "<IPython.core.display.HTML object>"
      ]
     },
     "metadata": {},
     "output_type": "display_data"
    },
    {
     "name": "stderr",
     "output_type": "stream",
     "text": [
      "Token indices sequence length is longer than the specified maximum sequence length for this model (26837 > 1024). Running this sequence through the model will result in indexing errors\n"
     ]
    }
   ],
   "source": [
    "class DropOutput(Callback):\n",
    "    def after_pred(self): self.learn.pred = self.pred[0]\n",
    "\n",
    "def tokenize(text):\n",
    "    toks = tokenizer.tokenize(text)\n",
    "    return tensor(tokenizer.convert_tokens_to_ids(toks))\n",
    "\n",
    "tokenized = [tokenize(t) for t in progress_bar(all_texts)]\n",
    "\n",
    "class TransformersTokenizer(Transform):\n",
    "    def __init__(self, tokenizer): self.tokenizer = tokenizer\n",
    "    def encodes(self, x): \n",
    "        return x if isinstance(x, Tensor) else tokenize(x)\n",
    "        \n",
    "    def decodes(self, x): return TitledStr(self.tokenizer.decode(x.cpu().numpy()))"
   ]
  },
  {
   "cell_type": "code",
   "execution_count": 5,
   "metadata": {},
   "outputs": [],
   "source": [
    "tls = TfmdLists(tokenized, TransformersTokenizer(tokenizer), splits=splits, dl_type=LMDataLoader)\n",
    "dls = tls.dataloaders(bs=bs, seq_len=sl)\n",
    "learn = Learner(dls, model, loss_func=CrossEntropyLossFlat(), cbs=[DropOutput], metrics=Perplexity()).to_fp16()"
   ]
  },
  {
   "cell_type": "code",
   "execution_count": 6,
   "metadata": {},
   "outputs": [
    {
     "data": {
      "text/html": [
       "<table border=\"1\" class=\"dataframe\">\n",
       "  <thead>\n",
       "    <tr style=\"text-align: left;\">\n",
       "      <th>epoch</th>\n",
       "      <th>train_loss</th>\n",
       "      <th>valid_loss</th>\n",
       "      <th>perplexity</th>\n",
       "      <th>time</th>\n",
       "    </tr>\n",
       "  </thead>\n",
       "  <tbody>\n",
       "    <tr>\n",
       "      <td>0</td>\n",
       "      <td>3.133877</td>\n",
       "      <td>3.633630</td>\n",
       "      <td>37.849957</td>\n",
       "      <td>09:11</td>\n",
       "    </tr>\n",
       "  </tbody>\n",
       "</table>"
      ],
      "text/plain": [
       "<IPython.core.display.HTML object>"
      ]
     },
     "metadata": {},
     "output_type": "display_data"
    }
   ],
   "source": [
    "learn.fit_one_cycle(1, 1e-4)"
   ]
  },
  {
   "cell_type": "code",
   "execution_count": 7,
   "metadata": {},
   "outputs": [
    {
     "name": "stderr",
     "output_type": "stream",
     "text": [
      "Setting `pad_token_id` to `eos_token_id`:50256 for open-end generation.\n"
     ]
    },
    {
     "data": {
      "text/plain": [
       "'\\n checkerboard spider. This is the first time we have seen this type of malware being used in the wild, and it’s the first time we have seen this type of malware being used in the wild, and it’s the first time we have seen this type of malware being used in the wild, and it’s the first time we have seen this type of malware being used in the wild, and it’s the first time we have seen this type of malware being used in the wild, and it’s the first time we have seen this type of malware being used in the wild, and it’s the first time we have seen this type of malware being used in the wild, and it’s the first time we have seen this type of malware being used in the wild, and it’s the first time we have seen this type of malware being used in the wild, and it’s the first time we have seen this type of malware being used in the wild, and it’s the first time we have seen this type of malware being used in the wild, and it’s the first time we have seen this type of malware being used in the wild, and it’s the first time we have seen this type of malware being used in the wild, and it’s the first time we have seen this type of malware being used in the wild, and it’s the first time we have seen this type of malware being used in the wild, and it’s the first time we have seen this type of malware being used in the wild, and it’s the first time we have seen this type of malware being used in the wild, and it’s the first time we have seen this type of malware being used in the wild, and it’s the first time we have seen this type of malware being used in the wild, and it’s the first time we have seen this type of malware being used in the wild, and it’s the first time we have seen this type of malware being used in the wild, and it’s the first time we have seen this type of malware being used in the wild, and it’s the first time we have seen this type of malware being used in the wild, and it’s the first time we have seen this type of malware being used in the wild, and it’s the first time we have seen this type of malware being used in the wild, and it’s the first time we have seen this type of malware being used in the wild, and it’s the first time we have seen this type of malware being used in the wild, and it’s the first time we have seen this type of malware being used in the wild, and it’s the first time we have seen this type of malware being used in the wild, and it’s the first time we have seen this type of malware being used in the wild, and it’s the first time we have seen this type of malware being used in the wild, and it’s the first time we have seen this type of malware being used in the wild, and it’s the first time we have seen this type of malware being used in the wild, and it’s the first time we have seen this type of malware being used in the wild, and it’s the first time we have seen this type of malware being used in the wild, and it’s the first time we have seen this type of malware being used in the wild, and it’s the first time we have seen this type of malware being used in the wild, and it’s the first time we have seen this type of malware being used in the wild, and it’s the first time we have seen this type of malware being used in the wild, and it’s the first time we have seen this type of malware being used in the wild, and it’s the first time we have seen this type of malware being used in the wild, and it’s the first time we have seen this type of malware being used in the wild, and it’s the first time we have seen this type of malware being used in the wild, and it’s the first time we have seen this type of malware being used in the wild, and it’s the first time we have seen this type of malware being used in the wild, and it’s the first time we have seen this type of malware being used in the wild, and it’s the first time we have seen this type of malware being used in the wild, and it’s the first time we have'"
      ]
     },
     "execution_count": 7,
     "metadata": {},
     "output_type": "execute_result"
    }
   ],
   "source": [
    "prompt = \"\\n checkerboard spider\"\n",
    "prompt_ids = tokenizer.encode(prompt)\n",
    "inp = tensor(prompt_ids)[None].cuda()\n",
    "preds = learn.model.generate(inp, max_length=1000, num_beams=5, temperature=1.5)\n",
    "tokenizer.decode(preds[0].cpu().numpy())"
   ]
  },
  {
   "cell_type": "markdown",
   "metadata": {},
   "source": [
    "Better. It's still repeating things over and over, but it's at least an English sentence. Now, I'm looking at that error above that talks about `Token indices sequence length is longer than the specified maximum sequence length for this model (26837 > 1024). Running this sequence through the model will result in indexing errors`. I'm wondering if I need to cut the files up into <= 1024-word sequences. Let's try that. "
   ]
  },
  {
   "cell_type": "code",
   "execution_count": 9,
   "metadata": {},
   "outputs": [],
   "source": [
    "# let's start from the top\n",
    "base_dir = Path(\"/home/g-clef/local_ml_data_copy/ti-reports/d7b917db-7989-468c-87e2-dc0c63b90e2c\")\n",
    "values = list()\n",
    "for entry in os.listdir(base_dir):\n",
    "    if entry.endswith(\".txt\"):\n",
    "        with open(os.path.join(base_dir, entry)) as infile:\n",
    "            data = infile.read()\n",
    "            words = data.split()\n",
    "            accum = list()\n",
    "            for word in words:\n",
    "                accum.append(word)\n",
    "                if len(accum) == 1023:\n",
    "                    values.append(\" \".join(accum))\n",
    "                    accum = list()\n",
    "            if accum:\n",
    "                values.append(\" \".join(accum))\n",
    "df = pd.DataFrame(data=values, columns=[\"text\"])\n",
    "train, valid = train_test_split(df, test_size=0.1, random_state=42)\n",
    "all_texts = np.concatenate([train['text'].values, valid['text'].values])\n",
    "splits = [range_of(train), list(range(len(train), len(all_texts)))]\n",
    "bs,sl = 4,256"
   ]
  },
  {
   "cell_type": "code",
   "execution_count": 10,
   "metadata": {},
   "outputs": [
    {
     "data": {
      "text/html": [
       "\n",
       "    <div>\n",
       "        <style>\n",
       "            /* Turns off some styling */\n",
       "            progress {\n",
       "                /* gets rid of default border in Firefox and Opera. */\n",
       "                border: none;\n",
       "                /* Needs to be in here for Safari polyfill so background images work as expected. */\n",
       "                background-size: auto;\n",
       "            }\n",
       "            .progress-bar-interrupted, .progress-bar-interrupted::-webkit-progress-bar {\n",
       "                background: #F44336;\n",
       "            }\n",
       "        </style>\n",
       "      <progress value='2573' class='' max='2573' style='width:300px; height:20px; vertical-align: middle;'></progress>\n",
       "      100.00% [2573/2573 00:15<00:00]\n",
       "    </div>\n",
       "    "
      ],
      "text/plain": [
       "<IPython.core.display.HTML object>"
      ]
     },
     "metadata": {},
     "output_type": "display_data"
    }
   ],
   "source": [
    "class DropOutput(Callback):\n",
    "    def after_pred(self): self.learn.pred = self.pred[0]\n",
    "\n",
    "def tokenize(text):\n",
    "    toks = tokenizer.tokenize(text)\n",
    "    return tensor(tokenizer.convert_tokens_to_ids(toks))\n",
    "\n",
    "tokenized = [tokenize(t) for t in progress_bar(all_texts)]\n",
    "\n",
    "class TransformersTokenizer(Transform):\n",
    "    def __init__(self, tokenizer): self.tokenizer = tokenizer\n",
    "    def encodes(self, x): \n",
    "        return x if isinstance(x, Tensor) else tokenize(x)\n",
    "        \n",
    "    def decodes(self, x): return TitledStr(self.tokenizer.decode(x.cpu().numpy()))"
   ]
  },
  {
   "cell_type": "markdown",
   "metadata": {},
   "source": [
    "No error log. Promising."
   ]
  },
  {
   "cell_type": "code",
   "execution_count": 11,
   "metadata": {},
   "outputs": [],
   "source": [
    "tls = TfmdLists(tokenized, TransformersTokenizer(tokenizer), splits=splits, dl_type=LMDataLoader)\n",
    "dls = tls.dataloaders(bs=bs, seq_len=sl)\n",
    "learn = Learner(dls, model, loss_func=CrossEntropyLossFlat(), cbs=[DropOutput], metrics=Perplexity()).to_fp16()"
   ]
  },
  {
   "cell_type": "code",
   "execution_count": 12,
   "metadata": {},
   "outputs": [
    {
     "data": {
      "text/html": [
       "<table border=\"1\" class=\"dataframe\">\n",
       "  <thead>\n",
       "    <tr style=\"text-align: left;\">\n",
       "      <th>epoch</th>\n",
       "      <th>train_loss</th>\n",
       "      <th>valid_loss</th>\n",
       "      <th>perplexity</th>\n",
       "      <th>time</th>\n",
       "    </tr>\n",
       "  </thead>\n",
       "  <tbody>\n",
       "    <tr>\n",
       "      <td>0</td>\n",
       "      <td>3.345060</td>\n",
       "      <td>3.434101</td>\n",
       "      <td>31.003523</td>\n",
       "      <td>09:18</td>\n",
       "    </tr>\n",
       "  </tbody>\n",
       "</table>"
      ],
      "text/plain": [
       "<IPython.core.display.HTML object>"
      ]
     },
     "metadata": {},
     "output_type": "display_data"
    }
   ],
   "source": [
    "learn.fit_one_cycle(1, 1e-4)"
   ]
  },
  {
   "cell_type": "code",
   "execution_count": 13,
   "metadata": {},
   "outputs": [
    {
     "name": "stderr",
     "output_type": "stream",
     "text": [
      "Setting `pad_token_id` to `eos_token_id`:50256 for open-end generation.\n"
     ]
    },
    {
     "data": {
      "text/plain": [
       "'\\n checkerboard spider.exe, which is used to download and execute a payload from the C&C server. The payload is then sent to the C&C server using the HTTP GET request. The payload is then sent to the C&C server using the HTTP GET request. The payload is then sent to the C&C server using the HTTP GET request. The payload is then sent to the C&C server using the HTTP GET request. The payload is then sent to the C&C server using the HTTP GET request. The payload is then sent to the C&C server using the HTTP GET request. The payload is then sent to the C&C server using the HTTP GET request. The payload is then sent to the C&C server using the HTTP GET request. The payload is then sent to the C&C server using the HTTP GET request. The payload is then sent to the C&C server using the HTTP GET request. The payload is then sent to the C&C server using the HTTP GET request. The payload is then sent to the C&C server using the HTTP GET request. The payload is then sent to the C&C server using the HTTP GET request. The payload is then sent to the C&C server using the HTTP GET request. The payload is then sent to the C&C server using the HTTP GET request. The payload is then sent to the C&C server using the HTTP GET request. The payload is then sent to the C&C server using the HTTP GET request. The payload is then sent to the C&C server using the HTTP GET request. The payload is then sent to the C&C server using the HTTP GET request. The payload is then sent to the C&C server using the HTTP GET request. The payload is then sent to the C&C server using the HTTP GET request. The payload is then sent to the C&C server using the HTTP GET request. The payload is then sent to the C&C server using the HTTP GET request. The payload is then sent to the C&C server using the HTTP GET request. The payload is then sent to the C&C server using the HTTP GET request. The payload is then sent to the C&C server using the HTTP GET request. The payload is then sent to the C&C server using the HTTP GET request. The payload is then sent to the C&C server using the HTTP GET request. The payload is then sent to the C&C server using the HTTP GET request. The payload is then sent to the C&C server using the HTTP GET request. The payload is then sent to the C&C server using the HTTP GET request. The payload is then sent to the C&C server using the HTTP GET request. The payload is then sent to the C&C server using the HTTP GET request. The payload is then sent to the C&C server using the HTTP GET request. The payload is then sent to the C&C server using the HTTP GET request. The payload is then sent to the C&C server using the HTTP GET request. The payload is then sent to the C&C server using the HTTP GET request. The payload is then sent to the C&C server using the HTTP GET request. The payload is then sent to the C&C server using the HTTP GET request. The payload is then sent to the C&C server using the HTTP GET request. The payload is then sent to the C&C server using the HTTP GET request. The payload is then sent to the C&C server using the HTTP GET request. The payload is then sent to the C&C server using the HTTP GET request. The payload is then sent to the C&C server using the HTTP GET request. The payload is then sent to the C&C server using the HTTP GET request. The payload is then sent to the C&C server using the HTTP GET request. The payload is then sent to the C&C server using the HTTP GET request. The payload is then sent to the C&C server using the HTTP GET request. The payload is then sent to the C&C server using the HTTP GET request. The payload is then sent to the C&C server using the HTTP GET request. The payload is then sent to the C&C server using the HTTP GET request. The payload is then sent to the C&C server using the HTTP GET request. The payload is then sent to the C&C server using the HTTP GET request. The payload is then sent to the C&C server using the HTTP GET request. The payload is then sent to the C&C server using the HTTP GET request. The payload is then sent to the C&C server using the HTTP GET request. The payload is then sent to the C&C server using the HTTP GET request. The payload is then sent to the'"
      ]
     },
     "execution_count": 13,
     "metadata": {},
     "output_type": "execute_result"
    }
   ],
   "source": [
    "prompt = \"\\n checkerboard spider\"\n",
    "prompt_ids = tokenizer.encode(prompt)\n",
    "inp = tensor(prompt_ids)[None].cuda()\n",
    "preds = learn.model.generate(inp, max_length=1000, num_beams=5, temperature=1.5)\n",
    "tokenizer.decode(preds[0].cpu().numpy())"
   ]
  },
  {
   "cell_type": "markdown",
   "metadata": {},
   "source": [
    "Huh. The first and second sentence work fine. After that it just loops again. But this is definite progress: it's making english-like sentences, they match the format of what we'd expect. It's just that it's still getting caught in these crazy loops. A GPT2 bug mentioned changing the \"temperature\" to fix this. Let's try. "
   ]
  },
  {
   "cell_type": "code",
   "execution_count": 20,
   "metadata": {},
   "outputs": [
    {
     "name": "stderr",
     "output_type": "stream",
     "text": [
      "Setting `pad_token_id` to `eos_token_id`:50256 for open-end generation.\n"
     ]
    },
    {
     "data": {
      "text/plain": [
       "'\\n checkerboard spider.exe, which is used to download and execute a payload from the C&C server. The payload is then sent to the C&C server using the HTTP GET request. The payload is then sent to the C&C server using the HTTP GET request. The payload is then sent to the C&C server using the HTTP GET request. The payload is then sent to the C&C server using the HTTP GET request. The payload is then sent to the C&C server using the HTTP GET request. The payload is then sent to the C&C server using the HTTP GET request. The payload is then sent to the C&C server using the HTTP GET request. The payload is then sent to the C&C server using the HTTP GET request. The payload is then sent to the C&C server using the HTTP GET request. The payload is then sent to the C&C server using the HTTP GET request. The payload is then sent to the C&C server using the HTTP GET request. The payload is then sent to the C&C server using the HTTP GET request. The payload is then sent to the C&C server using the HTTP GET request. The payload is then sent to the C&C server using the HTTP GET request. The payload is then sent to the C&C server using the HTTP GET request. The payload is then sent to the C&C server using the HTTP GET request. The payload is then sent to the C&C server using the HTTP GET request. The payload is then sent to the C&C server using the HTTP GET request. The payload is then sent to the C&C server using the HTTP GET request. The payload is then sent to the C&C server using the HTTP GET request. The payload is then sent to the C&C server using the HTTP GET request. The payload is then sent to the C&C server using the HTTP GET request. The payload is then sent to the C&C server using the HTTP GET request. The payload is then sent to the C&C server using the HTTP GET request. The payload is then sent to the C&C server using the HTTP GET request. The payload is then sent to the C&C server using the HTTP GET request. The payload is then sent to the C&C server using the HTTP GET request. The payload is then sent to the C&C server using the HTTP GET request. The payload is then sent to the C&C server using the HTTP GET request. The payload is then sent to the C&C server using the HTTP GET request. The payload is then sent to the C&C server using the HTTP GET request. The payload is then sent to the C&C server using the HTTP GET request. The payload is then sent to the C&C server using the HTTP GET request. The payload is then sent to the C&C server using the HTTP GET request. The payload is then sent to the C&C server using the HTTP GET request. The payload is then sent to the C&C server using the HTTP GET request. The payload is then sent to the C&C server using the HTTP GET request. The payload is then sent to the C&C server using the HTTP GET request. The payload is then sent to the C&C server using the HTTP GET request. The payload is then sent to the C&C server using the HTTP GET request. The payload is then sent to the C&C server using the HTTP GET request. The payload is then sent to the C&C server using the HTTP GET request. The payload is then sent to the C&C server using the HTTP GET request. The payload is then sent to the C&C server using the HTTP GET request. The payload is then sent to the C&C server using the HTTP GET request. The payload is then sent to the C&C server using the HTTP GET request. The payload is then sent to the C&C server using the HTTP GET request. The payload is then sent to the C&C server using the HTTP GET request. The payload is then sent to the C&C server using the HTTP GET request. The payload is then sent to the C&C server using the HTTP GET request. The payload is then sent to the C&C server using the HTTP GET request. The payload is then sent to the C&C server using the HTTP GET request. The payload is then sent to the C&C server using the HTTP GET request. The payload is then sent to the C&C server using the HTTP GET request. The payload is then sent to the C&C server using the HTTP GET request. The payload is then sent to the C&C server using the HTTP GET request. The payload is then sent to the C&C server using the HTTP GET request. The payload is then sent to the'"
      ]
     },
     "execution_count": 20,
     "metadata": {},
     "output_type": "execute_result"
    }
   ],
   "source": [
    "prompt = \"\\n checkerboard spider\"\n",
    "prompt_ids = tokenizer.encode(prompt)\n",
    "inp = tensor(prompt_ids)[None].cuda()\n",
    "preds = learn.model.generate(inp, max_length=1000, num_beams=5, temperature=1000)\n",
    "tokenizer.decode(preds[0].cpu().numpy())"
   ]
  },
  {
   "cell_type": "markdown",
   "metadata": {},
   "source": [
    "That didn't work, but apparently there are a few other things I can set. *IMPORTANTLY*, there's a `no_repeat_ngram_size` variable, to keep it from getting stuck. "
   ]
  },
  {
   "cell_type": "code",
   "execution_count": 21,
   "metadata": {},
   "outputs": [
    {
     "name": "stderr",
     "output_type": "stream",
     "text": [
      "Setting `pad_token_id` to `eos_token_id`:50256 for open-end generation.\n"
     ]
    },
    {
     "data": {
      "text/plain": [
       "'\\n checkerboard spider.exe, which is used to download and execute a payload from the C&C server. The payload is then sent to a remote server, where it is decrypted and sent back to the attacker. Once the payload has been downloaded and executed, it will be executed in a new thread. This is the first time we have seen this type of malware being used in the wild. It is interesting to note that in this case, the malware does not contain any malicious code at all. Instead, we see that the attackers are using this malware as a lure to lure victims into clicking on the malicious link. Figure 1: Screenshot of a malicious downloader Figure 2: A screenshot of an infected web page Figure 3: An infected webpage Figure 4: Infected web pages Figure 5: The infected page is shown in Figure 6 Figure 7: Figure 8: Malicious PDF document Figure 9: PDF file containing malicious content Figure 10: Attacker’s web browser Figure 11: Spearphishing email with malicious attachment Figure 12: Attachment containing malware Figure 13: HTML document containing a link to an embedded malicious file Figure 14: Embedded malicious document in PDF format Figure 15: Link to embedded executable Figure 16: Exploitation method used by attackers to infect victims Figure 17: Targeted spearphish email sent from a compromised web server Figure 18: Credential harvesting technique used for phishing attacks Figure 19: Command and control (C2) communication between attackers and C2 servers Figure 20: HTTP POST request for a command to be sent Figure 21: User-Agent (HTTP/1.1) response Figure 22: Content-Length of the HTTP request Figure 23: Data sent by the command Figure 24: Encrypted data received Figure 25: MD5 hash of encoded data Figure 26: SHA-1 of decoded data (SHA-256) Figure 27: Hash of encrypted data in encrypted form Figure 28: XOR-encrypted data with a key of 0x5A Figure 29: Hexadecimal key for the decryption key Figure 30: AES-128-CBC algorithm for encryption Figure 31: RC4-encryption for AES Figure 32: Decryption of AES data Table 1 shows a list of commands that can be performed on infected systems Figure 33: Commands that are executed by a malware sample Figure 34: Indicators of Compromise (IoC)\\x00\\x00 Figure 35: Information about the infected system Figure 36: List of infected computers Figure 37: System information about infected machines Figure 38: Network traffic from infected hosts Figure 39: IP address of compromised computer Figure 40: Internet Protocol Protocol (IP) addresses Figure 41: IPv4 Address for infected computer Table 2 shows the IP addresses and port numbers for each infected machine Figure 43: TCP port number for TCP ports Figure 44: UDP port for UDP ports Table 3 shows an example of how a TCP connection is made Figure 45: Example of TCP connections Figure 46: Examples of UDP connections Table 4 shows how an attacker can use the TCP protocol to communicate with the victim Figure 47: How attackers can send and receive commands Figure 48: Sending and receiving commands Table 5 shows some examples of command-and-control (P2P) communications Figure 49: Communication between a client and a server Table 6 shows what commands are sent and received by infected clients Figure 50: Control flow between the server and the client Figure 51: Server-side command flow Figure 52: Client-server communication Figure 53: Connection between infected servers Table 7 shows HTTP requests for commands and HTTP responses Figure 54: Accept-Encoding (encoded) requests Figure 55: Request for HTTP GET Figure 56: Response for POST Figure 57: Uploading and downloading files Figure 58: Downloading files Table 9 shows commands for downloading and executing a file Table 10 shows various files and directories Table 11 shows different types of files, such as executables and executable archives Table 12 shows files with different extensions Table 13 shows file names Table 14 shows directory names for files that have different extension Table 15 shows directories for directories that contain different file types Table 16 shows folders for folders that do not have the same file type Table 17 shows folder names of folders Table 18 shows specific files for which a particular extension is not present Table 19 shows all files on a given folder Table 20 lists the directories of directories on which the file is installed Table 21 lists files in which an extension exists Table 22 lists all folders on an archive Table 23 lists a folder named “C:\\\\Documents and Settings\\\\All Users\\\\Microsoft\\\\Windows NT\\\\CurrentVersion\\\\Explorer\\\\” Table 24 lists folders with specific extensions TABLE 25 lists directories with unique extension TABLE 26 lists file paths Table 27 lists directory paths for different files TABLE 28 lists folder paths TABLE 29 lists specific file path names TABLE 30 lists an executable path Table 31 lists executable paths of different versions Table 32 lists installed files of various versions TABLE 33 lists various file extensions of each version Table 34 lists known file'"
      ]
     },
     "execution_count": 21,
     "metadata": {},
     "output_type": "execute_result"
    }
   ],
   "source": [
    "prompt = \"\\n checkerboard spider\"\n",
    "prompt_ids = tokenizer.encode(prompt)\n",
    "inp = tensor(prompt_ids)[None].cuda()\n",
    "preds = learn.model.generate(inp, max_length=1000, num_beams=5, temperature=1.5, early_stopping=True, no_repeat_ngram_size=2)\n",
    "tokenizer.decode(preds[0].cpu().numpy())"
   ]
  },
  {
   "cell_type": "markdown",
   "metadata": {},
   "source": [
    "Wow. This is quite good. It gets caught it a bit of a loop at the end with \"figure\" and \"table\" entries, but still. It's the best I've seen so far. Fantastic. "
   ]
  },
  {
   "cell_type": "markdown",
   "metadata": {},
   "source": [
    "Of course, this makes me wonder if my efforts to remove the URLs and the like earlier were unnecessary. Perhaps what I really needed to do at the beginning was split up the input files at 1024 words, and set the `no_repeat_ngrams_size` variable on the data without all the filtering, i.e. the first attempt. Let's go back to the very first dataset, and try it.\n",
    "\n",
    "First, though, let's save this model, because it's working, and that's fantastic."
   ]
  },
  {
   "cell_type": "code",
   "execution_count": 22,
   "metadata": {},
   "outputs": [
    {
     "data": {
      "text/plain": [
       "Path('models/filtered_working.pth')"
      ]
     },
     "execution_count": 22,
     "metadata": {},
     "output_type": "execute_result"
    }
   ],
   "source": [
    "learn.save(\"filtered_working\")"
   ]
  },
  {
   "cell_type": "code",
   "execution_count": 23,
   "metadata": {},
   "outputs": [],
   "source": [
    "base_dir = Path(\"/home/g-clef/local_ml_data_copy/ti-reports/1655302d-a401-4d87-a223-dbb06648bb8f\")\n",
    "values = list()\n",
    "for entry in os.listdir(base_dir):\n",
    "    if entry.endswith(\".txt\"):\n",
    "        with open(os.path.join(base_dir, entry)) as infile:\n",
    "            data = infile.read()\n",
    "            words = data.split()\n",
    "            accum = list()\n",
    "            for word in words:\n",
    "                accum.append(word)\n",
    "                if len(accum) == 1023:\n",
    "                    values.append(\" \".join(accum))\n",
    "                    accum = list()\n",
    "            if accum:\n",
    "                values.append(\" \".join(accum))\n",
    "df = pd.DataFrame(data=values, columns=[\"text\"])\n",
    "train, valid = train_test_split(df, test_size=0.1, random_state=42)\n",
    "all_texts = np.concatenate([train['text'].values, valid['text'].values])\n",
    "splits = [range_of(train), list(range(len(train), len(all_texts)))]\n",
    "bs,sl = 4,256"
   ]
  },
  {
   "cell_type": "code",
   "execution_count": 24,
   "metadata": {},
   "outputs": [
    {
     "data": {
      "text/html": [
       "\n",
       "    <div>\n",
       "        <style>\n",
       "            /* Turns off some styling */\n",
       "            progress {\n",
       "                /* gets rid of default border in Firefox and Opera. */\n",
       "                border: none;\n",
       "                /* Needs to be in here for Safari polyfill so background images work as expected. */\n",
       "                background-size: auto;\n",
       "            }\n",
       "            .progress-bar-interrupted, .progress-bar-interrupted::-webkit-progress-bar {\n",
       "                background: #F44336;\n",
       "            }\n",
       "        </style>\n",
       "      <progress value='6624' class='' max='6624' style='width:300px; height:20px; vertical-align: middle;'></progress>\n",
       "      100.00% [6624/6624 00:54<00:00]\n",
       "    </div>\n",
       "    "
      ],
      "text/plain": [
       "<IPython.core.display.HTML object>"
      ]
     },
     "metadata": {},
     "output_type": "display_data"
    }
   ],
   "source": [
    "class DropOutput(Callback):\n",
    "    def after_pred(self): self.learn.pred = self.pred[0]\n",
    "\n",
    "def tokenize(text):\n",
    "    toks = tokenizer.tokenize(text)\n",
    "    return tensor(tokenizer.convert_tokens_to_ids(toks))\n",
    "\n",
    "tokenized = [tokenize(t) for t in progress_bar(all_texts)]\n",
    "\n",
    "class TransformersTokenizer(Transform):\n",
    "    def __init__(self, tokenizer): self.tokenizer = tokenizer\n",
    "    def encodes(self, x): \n",
    "        return x if isinstance(x, Tensor) else tokenize(x)\n",
    "        \n",
    "    def decodes(self, x): return TitledStr(self.tokenizer.decode(x.cpu().numpy()))"
   ]
  },
  {
   "cell_type": "code",
   "execution_count": 25,
   "metadata": {},
   "outputs": [],
   "source": [
    "tls = TfmdLists(tokenized, TransformersTokenizer(tokenizer), splits=splits, dl_type=LMDataLoader)\n",
    "dls = tls.dataloaders(bs=bs, seq_len=sl)\n",
    "learn = Learner(dls, model, loss_func=CrossEntropyLossFlat(), cbs=[DropOutput], metrics=Perplexity()).to_fp16()"
   ]
  },
  {
   "cell_type": "code",
   "execution_count": 26,
   "metadata": {},
   "outputs": [
    {
     "data": {
      "text/html": [
       "<table border=\"1\" class=\"dataframe\">\n",
       "  <thead>\n",
       "    <tr style=\"text-align: left;\">\n",
       "      <th>epoch</th>\n",
       "      <th>train_loss</th>\n",
       "      <th>valid_loss</th>\n",
       "      <th>perplexity</th>\n",
       "      <th>time</th>\n",
       "    </tr>\n",
       "  </thead>\n",
       "  <tbody>\n",
       "    <tr>\n",
       "      <td>0</td>\n",
       "      <td>3.527252</td>\n",
       "      <td>3.153177</td>\n",
       "      <td>23.410316</td>\n",
       "      <td>32:18</td>\n",
       "    </tr>\n",
       "  </tbody>\n",
       "</table>"
      ],
      "text/plain": [
       "<IPython.core.display.HTML object>"
      ]
     },
     "metadata": {},
     "output_type": "display_data"
    }
   ],
   "source": [
    "learn.fit_one_cycle(1, 1e-4)"
   ]
  },
  {
   "cell_type": "code",
   "execution_count": 27,
   "metadata": {},
   "outputs": [
    {
     "name": "stderr",
     "output_type": "stream",
     "text": [
      "Setting `pad_token_id` to `eos_token_id`:50256 for open-end generation.\n"
     ]
    },
    {
     "data": {
      "text/plain": [
       "'\\n checkerboard spider.com/wp-includes/pomo/checker.php https://www.trendmicro. com/en_us/research/20/l/sidewinder-apt-group-continues-to-target-government-and-military-institutions-in-the-middle-east/ 1/12 2/4/2020 Sidewinders: APT group continues to target government and military institutions in the Middle East | TrendLabs Security Intelligence Blog Figure 1. Screenshot of the malicious document. Figure 2. A screenshot of a decoy document with a link to a malicious PDF file. The document has the following structure: Figure 3. An example of an email sent to an individual with the subject “Your email address will not be published.” Figure 4. Email sent by the individual to the email. This email was sent from the same address as the one used to send the spear-phishing email (Figure 5). Figure 5. Spearphished email from a victim with an attached PDF attachment. In this case, the attachment was a Word document, which contained an attachment that contained malicious code that would download and execute an executable file from hxxp://192.168.0.1:8080/download.exe Figure 6. Code that downloads and executes the downloaded executable. It is worth noting that this executable is not a legitimate executable, but rather a downloader that is downloaded and executed by a remote attacker. We believe that the attackers behind this campaign are using a custom toolkit that allows them to execute arbitrary code on the victim’s machine, as seen in Figure 7 and Figure 8. Conclusion The threat actor behind the campaign has been active for at least two years, and it is likely that they continue to be active as long as they are able to maintain access to victim networks. However, we do not have enough evidence to conclusively attribute this activity to any specific actor or group of threat actors. Based on our telemetry, it seems unlikely that any particular actor is responsible for this attack, or that there is any direct connection between this actor and the group behind it. Further research is needed to determine who is behind these attacks and how they operate. Indicators of Compromise (IoCs) The following IoCs can be used as indicators of compromise in order to identify potential victims of interest: • C&C server IP address • IP addresses used for command and control (C2) • Domain names used in spear phishing emails • Malicious domains used by attackers to deliver malicious payloads • Email addresses and URLs that redirect victims to malicious domains • URL short URL paths that lead to legitimate websites (e.g., www.google[.]com, google.co.uk, etc.) • MD5 hashes of malicious files • SHA-256 hash of files that have been uploaded to VirusTotal (SHA-1 hashes) We have also identified a number of other domains that are associated with this group. These domains are linked to other groups that we believe are related to this threat group, such as DarkHotel and DarkComet. While we have not found any evidence of direct links between these groups, there are some indications that these domains may be linked with other threat groups. For more information about the domains, please contact intelreports@kaspersky.COM. © 2020 All rights reserved to ClearSky Cyber Security Ltd. All other trademarks and service marks are the property of their respective owners. Trend Micro, Incorporated. and/or its affiliates are trademarks or registered trademarks of TrendMicro, a registered trademark or service mark of its respective companies in this document or its content. Any use of this information is at any time without the benefit of legal advice based on its accuracy or use is subject to standard copyright rules at the end user. Use of information contained on this page constitutes acceptance for use in whole or in part in reliance on information provided herein and without providing a means of payment. You agree that access is provided to you, its use and that you agree to use it for personal, non-commercial use or copying of any content or material for any purpose, express or implied, including without limitation, without limiting the right to print, electronic, photocopying, recording, transmission, distribution, copying, display, copy, presentation, reproduction or any other use without obtaining permission in writing or by any means other than by electronic means. Information contained herein is for general information and educational purposes only and may not reflect the most current situation. Copyright © 2019 All Rights Reserved. | Privacy Shield | Legal Notices | Terms of Use | Disclaimer | Contact Us | Site Map | Blog | About the Threat Research Center ofﬁcial Blog �ash \\uf0ec \\uf06c\\x00\\x00 \\uf001\\uf003\\uf0c0\\uf08d \\uf10d\\uf10e \\uf16a\\uf14c�'"
      ]
     },
     "execution_count": 27,
     "metadata": {},
     "output_type": "execute_result"
    }
   ],
   "source": [
    "prompt = \"\\n checkerboard spider\"\n",
    "prompt_ids = tokenizer.encode(prompt)\n",
    "inp = tensor(prompt_ids)[None].cuda()\n",
    "preds = learn.model.generate(inp, max_length=1000, num_beams=5, temperature=1.5, early_stopping=True, no_repeat_ngram_size=2)\n",
    "tokenizer.decode(preds[0].cpu().numpy())"
   ]
  },
  {
   "cell_type": "markdown",
   "metadata": {},
   "source": [
    "Hmmmm....not *bad*, per se, but interestingly, not as good as the earlier one. I like that it's generating urls, and it's entertaining that it's included (and *learned*) the legal disclaimers and copyright boilerplate. That's entertaining. \n",
    "\n",
    "Let's see if we can do better, though. "
   ]
  },
  {
   "cell_type": "markdown",
   "metadata": {},
   "source": [
    "the blog post that pointed me to `no_repeat_ngram_size` (https://huggingface.co/blog/how-to-generate ) also mentioned a few other parameters that you could use to clean up generated code. It's explaining what's happening here:\n",
    "    * `num_beams`: a \"beam\" is a set of words in a tree of possible words following a given word. Using beams, the algorithm picks the *beam* with the highest probability, rather than the individual next word. That makes some sense, since it's more likely to make coherent sentences. It does, however, have the repeating problem I've seen here. \n",
    "    * `Temperature` is a measure of randomness that gets added to the sampling, but apparently doesn't help much in beaming, since it'll just keep picking the same high-probability beams. \n",
    "    * `early_stopping` allows the algorithm to stop before the max or min length if it's used up all its possible outputs, which helps avoid repetition.\n",
    "    * `no_repeat_ngram_size` is a way to stop it from repeating words. It means that the algorithm keeps ngrams that have already been used in the text generation, and ensures they're never used again in that generation pass. That's great for breaking out of repetition, but it means that names, for example, will never be used again, which is a problem. (In the blog example, `New York` would trigger a 2-gram, and so would only ever be used once in a text generation, which may not be what you want if you want something about New York.\n",
    "    \n",
    "There's another method of generating text that blog post talks about that may be better than beaming, specifically \"sampling\". Basically, in sampling the algorithm is picking the next word based on the statistical probability of it following the previous words. A bit like a <insert name of the thing I used to generate spam blocking text>. That works fairly well, but has the bad habit of picking weird words, since it's just doing a statistical decision. (so every 1 out of 100, for example, it'll pick a really rare word.) \n",
    "\n",
    "One way to fix that is to use \"top-k\" sampling. This is the idea that when you sample, you limit the next words that can be chosen to the top \"k\" next words. This avoids accidentally choosing really weird next words. The blog post mentions that this works, but doesn't take into account that some words will have very few words that statistically follow them (\"quest\") and some will have *Many* (\"the\"). Top \"K\" doesn't take that into account, it just hard-limits the words that can follow any word to a fixed number. \n",
    "    \n",
    "Instead, the post talks about using \"top-p\" sampling. In top-p sampling, you pick the next word from a pool of words whose probability totals up to \"p\". When you do that, the algorithm picks the *minimum* number of words that will fill that probability, and then picks from those words for hte next word in the sequence. That seems to work best in his demonstrations, so let's try that. "
   ]
  },
  {
   "cell_type": "code",
   "execution_count": 28,
   "metadata": {},
   "outputs": [
    {
     "name": "stderr",
     "output_type": "stream",
     "text": [
      "Setting `pad_token_id` to `eos_token_id`:50256 for open-end generation.\n"
     ]
    },
    {
     "data": {
      "text/plain": [
       "'\\n checkerboard spider - a new open-source toolset with a command-line interface that can be found in the open-source Firefox spyware webshells, see the list of “Spyware” here. Most of the tools are not available on the open-source web server. The webshells are built on top of the popular webshells, such as the “Mail.Mail.Mail.Mail.Mail.Mail.Mail.Mail.Mail.Mail.Mail.Mail.Mail.Mail.Mail.Mail.Mail.Mail.Mail.Mail.Mail.Mail.Mail.Mail.Mail.Mail.Mail.Mail.Mail.Mail.Mail.Mail.Mail.Mail.Mail.Mail.Mail.Mail.Mail.Mail.Mail.Mail.Mail.Mail.Mail.Mail.Mail.Mail.Mail.Mail.Mail.Mail.Mail.Mail.Mail.Mail.Mail.Mail.Mail.Mail.Mail.Mail.Mail.Mail.Mail.Mail.Mail.Mail.Mail.Mail.Mail.Mail.Mail.Mail.Mail.Mail.Mail.Mail.Mail.Mail.Mail.Mail.Mail.Mail.Mail.Mail.Mail.Mail.Mail.Mail.Mail.Mail.Mail.Mail.Mail.Mail.Mail.Mail.Mail.Mail.Mail.Mail.Mail.Mail.Mail.Mail.Mail.Mail.Mail.Mail.Mail.Mail.Mail.Mail.Mail.Mail.Mail.Mail.Mail.Mail.Mail.Mail.Mail.Mail.Mail.Mail.Mail.Mail.Mail.Mail.Mail.Mail.Mail.Mail.Mail.Mail.Mail.Mail.Mail.Mail.Mail.Mail.Mail.Mail.Mail.Mail.Mail.Mail.Mail.Mail.Mail.Mail.Mail.Mail.Mail.Mail.Mail.Mail.Mail.Mail.Mail.Mail.Mail.Mail.Mail.Mail.Mail.Mail.Mail.Mail.Mail.Mail.Mail.Mail.Mail.Mail.Mail.Mail.Mail.Mail.Mail.Mail.Mail.Mail.Mail.Mail.Mail.Mail.Mail.Mail.Mail.Mail.Mail.Mail.Mail.Mail.Mail.Mail.Mail.Mail.Mail.Mail.Mail.Mail.Mail.Mail.Mail.Mail.Mail.Mail.Mail.Mail.Mail.Mail.Mail.Mail.Mail.Mail.Mail.Mail.Mail.Mail.Mail.Mail.Mail.Mail.Mail.Mail.Mail.Mail.Mail.Mail.Mail.Mail.Mail.Mail.Mail.Mail.Mail.Mail.Mail.Mail.Mail.Mail.Mail.Mail.Mail.Mail.Mail.Mail.Mail.Mail.Mail.Mail.Mail.Mail.Mail.Mail.Mail.Mail.Mail.Mail.Mail.Mail.Mail.Mail.Mail.Mail.Mail.Mail.Mail.Mail.Mail.Mail.Mail.Mail.Mail.Mail.Mail.Mail.Mail.Mail.Mail.Mail.Mail.Mail.Mail.Mail.Mail.Mail.Mail.Mail.Mail.Mail.Mail.Mail.Mail.Mail.Mail.Mail.Mail.Mail.Mail.Mail.Mail.Mail.Mail.Mail.Mail.Mail.Mail.Mail.Mail.Mail.Mail.Mail.Mail.Mail.Mail.Mail.Mail.Mail.Mail.Mail.Mail.Mail.Mail.Mail.Mail.Mail.Mail.Mail.Mail.Mail.Mail.Mail.Mail.Mail.Mail.Mail.Mail.Mail.Mail.Mail.Mail.Mail.Mail.Mail.Mail.Mail.Mail.Mail.Mail.Mail.Mail.Mail.Mail.Mail.Mail.Mail.Mail.Mail.Mail.Mail.Mail.Mail.Mail.Mail.Mail.Mail.Mail.Mail.Mail.Mail.Mail.Mail.Mail.Mail.Mail.Mail.Mail.Mail.Mail.Mail.Mail.Mail.Mail.Mail.Mail.Mail.Mail.Mail.Mail.Mail.Mail.Mail.Mail.Mail.Mail.Mail.Mail.Mail.Mail.Mail.Mail.Mail.Mail.Mail.Mail.Mail.Mail.Mail.Mail.Mail.Mail.Mail.Mail.Mail.Mail.Mail.Mail.Mail.Mail.Mail.Mail.Mail.Mail.Mail.Mail.Mail.Mail.Mail.Mail.Mail.Mail.Mail.Mail.Mail.Mail.Mail.Mail.Mail.Mail.Mail.Mail.Mail.Mail.Mail.Mail.Mail.Mail.Mail.Mail.Mail.Mail.Mail.Mail.Mail.Mail'"
      ]
     },
     "execution_count": 28,
     "metadata": {},
     "output_type": "execute_result"
    }
   ],
   "source": [
    "prompt = \"\\n checkerboard spider\"\n",
    "prompt_ids = tokenizer.encode(prompt)\n",
    "inp = tensor(prompt_ids)[None].cuda()\n",
    "preds = learn.model.generate(inp, \n",
    "                             max_length=1000, \n",
    "                             temperature=0.7, \n",
    "                             do_sample=True, \n",
    "                             top_p=0.92, \n",
    "                             top_k=0)\n",
    "tokenizer.decode(preds[0].cpu().numpy())"
   ]
  },
  {
   "cell_type": "markdown",
   "metadata": {},
   "source": [
    "Gah. What the fuck is that?\n",
    "\n",
    "I left out one thing, the blog post also mentioned setting `num_return_sequences` to allow it to pick more than one possible response from its output:"
   ]
  },
  {
   "cell_type": "code",
   "execution_count": 29,
   "metadata": {},
   "outputs": [
    {
     "name": "stderr",
     "output_type": "stream",
     "text": [
      "Setting `pad_token_id` to `eos_token_id`:50256 for open-end generation.\n"
     ]
    },
    {
     "data": {
      "text/plain": [
       "'\\n checkerboard spider: https://blog.talosintelligence.com/2020/10/cve-2018-0158-analysis-of-apt-group-targets-minority-organizations/ 6/10 10/12/2020 Cisco Talos Intelligence Group - Comprehensive Threat Intelligence: APT Group Targets Minority Organizations | WeLiveSecurity The APT group was active from January 2019 to March 2020, but was not observed in any of the samples analyzed. The threat actor has been active since at least 2018, and it is believed that the threat actor is still active at this time. However, this group is not a new threat actor. In June 2019, Talos detected the threat actor in a campaign against a U.S.-based video game company that targeted a U.S.-based video game company. The actor used a new remote access trojan (RAT) to perform reconnaissance on the company’s video game system. This RAT is a backdoor that allows the actor to steal video game files. The actor leveraged a previously unknown tool called nmap, which was developed by a local administrator at the company, to download and execute additional malicious code. The actor used the nmap command to download and execute additional malicious code, as well as a legitimate Java file called Inject.jar. Inject.jar is a legitimate Java file that is used to download additional malicious code from the infected system. Inject.jar contains code that is used to download additional malicious code from the infected system. The malicious code downloaded from the infected system has been analyzed in detail in the next section. The malware is designed to evade detection by Windows Defender products and is likely developed for use in targeted attacks. In this attack, the actor used an exploit kit that was compiled using the same exploit kit as the one described in the previous section. The malware is written in C++. The actor has used the following obfuscation techniques to hide its malicious code in the memory: • The code obfuscated the embedded code in the code (the obfuscation technique described in this section) and uses a hardcoded string to store the embedded code within the malicious code to evade detection • The obfuscation technique used by the code obfuscate the embedded code in the code (the string obfuscation technique described in this section) The code is designed to hide its malicious code in the memory to avoid detection by Microsoft Visual Studio applications • The obfuscated code is used to hide the obfuscation technique that is used to hide the embedded code in the memory in the memory of the memory of the infected system This is a technique that is used to avoid detection by Microsoft Visual Studio applications • The obfuscation technique is used to hide the embedded code in the memory of the infected system (the code obfuscated by the string obfuscation technique described in this section) • The code is obfuscated using the same technique that is used to hide the embedded code in the memory of the infected system (the code obfuscated by the string obfuscation technique described in this section) The code is obfuscated using the same technique that is used to hide the embedded code in the memory of the infected system • The code obfuscation technique is used to obfuscate the embedded code in the memory of the infected system (the code obfuscated by the string obfuscation technique described in this section) The code has an internal name of “hxxp://”, which is an internal name of the Windows Command and Control server (e.g. “winmgt.com”). This information is not encrypted, so it is used to hide the malicious code in the memory of the infected system. The code is then executed using the malware to encrypt the embedded code and then execute it using a randomly generated key to encrypt the embedded code. The malware performs the following actions: 1. It checks the system name of the system. 2. It retrieves the name of the current process (e.g. “winmgt.com”) and checks if the system name is “winmgt.com”. 3. It checks if the process name of the system is “winmgt.com” and if it is “winmgt.com”. 4. It tries to determine if the file “winmgt.com” is running in the system. It then checks if the file “winmgt.com” is running in the system. The malware uses the following command to get the system name: “winmgt.com”: winmgt.com.exe (c:\\\\windows\\\\system32\\\\winmgt.com.exe) 5. It tries to set the file “winmgt.com” to “winmgt.com.exe” and then starts the “winmgt.com”'"
      ]
     },
     "execution_count": 29,
     "metadata": {},
     "output_type": "execute_result"
    }
   ],
   "source": [
    "prompt = \"\\n checkerboard spider\"\n",
    "prompt_ids = tokenizer.encode(prompt)\n",
    "inp = tensor(prompt_ids)[None].cuda()\n",
    "preds = learn.model.generate(inp, \n",
    "                             max_length=1000, \n",
    "                             temperature=0.7, \n",
    "                             do_sample=True, \n",
    "                             top_p=0.92, \n",
    "                             num_return_sequences=3,\n",
    "                             top_k=0)\n",
    "tokenizer.decode(preds[0].cpu().numpy())"
   ]
  },
  {
   "cell_type": "markdown",
   "metadata": {},
   "source": [
    "Wow. It's clearly memorized a few things, like URLs and TI company names, but otherwise this is *really* good. \n",
    "\n",
    "Let's save this model, since I'm really happy with these results."
   ]
  },
  {
   "cell_type": "code",
   "execution_count": 30,
   "metadata": {},
   "outputs": [
    {
     "data": {
      "text/plain": [
       "Path('models/full-working.pth')"
      ]
     },
     "execution_count": 30,
     "metadata": {},
     "output_type": "execute_result"
    }
   ],
   "source": [
    "learn.save(\"full-working\")"
   ]
  },
  {
   "cell_type": "code",
   "execution_count": null,
   "metadata": {},
   "outputs": [],
   "source": []
  }
 ],
 "metadata": {
  "kernelspec": {
   "display_name": "Python 3 (ipykernel)",
   "language": "python",
   "name": "python3"
  },
  "language_info": {
   "codemirror_mode": {
    "name": "ipython",
    "version": 3
   },
   "file_extension": ".py",
   "mimetype": "text/x-python",
   "name": "python",
   "nbconvert_exporter": "python",
   "pygments_lexer": "ipython3",
   "version": "3.8.10"
  }
 },
 "nbformat": 4,
 "nbformat_minor": 4
}
